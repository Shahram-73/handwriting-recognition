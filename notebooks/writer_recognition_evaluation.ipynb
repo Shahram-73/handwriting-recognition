{
  "nbformat": 4,
  "nbformat_minor": 0,
  "metadata": {
    "colab": {
      "name": "writer-recognition-evaluation.ipynb",
      "provenance": [],
      "collapsed_sections": []
    },
    "kernelspec": {
      "name": "python3",
      "display_name": "Python 3"
    },
    "language_info": {
      "name": "python"
    }
  },
  "cells": [
    {
      "cell_type": "markdown",
      "source": [
        "# WRITER RECOGNITION EVALUATION NOTEBOOK\n",
        "\n",
        "We have trained two different classification models in the last notebook that were able to classify an image among 31 different authors. But In biometrics, we need feature extractor modules in order to create and extract the relevant features during the enrollment and save them in our gallery. Therefore, what we are going to do in this notebook is to remove the last layer of our model which is the classification layer in order to access the feature layer.\n",
        "Then once we have the feature extractor model, we will perform the all-against-all methods in order to stress the system evaluation."
      ],
      "metadata": {
        "id": "3exQB20doJ3K"
      }
    },
    {
      "cell_type": "markdown",
      "source": [
        "## PREPARATION\n",
        "In the following, we are going to set some constants in order to use them during the evaluation. We also have mounting google drive in order to save the training logs into our g-drive."
      ],
      "metadata": {
        "id": "JyS3X1nDoz6U"
      }
    },
    {
      "cell_type": "markdown",
      "source": [
        "### MOUNTING GOOGLE DRIVE\n",
        "The first thing to do is to give google colab permission to access our drive so as to save the training checkpoints."
      ],
      "metadata": {
        "id": "WGpVR8l5o65M"
      }
    },
    {
      "cell_type": "code",
      "execution_count": null,
      "metadata": {
        "colab": {
          "base_uri": "https://localhost:8080/"
        },
        "id": "0Uy9-iqpcH_r",
        "outputId": "a77e8e16-6a3f-47fe-ee74-950ff0744486"
      },
      "outputs": [
        {
          "output_type": "stream",
          "name": "stdout",
          "text": [
            "Mounted at /content/gdrive\n"
          ]
        }
      ],
      "source": [
        "#MOUNTING GOOGLE DRIVE\n",
        "\n",
        "from google.colab import drive\n",
        "drive.mount('/content/gdrive',  force_remount=True)"
      ]
    },
    {
      "cell_type": "markdown",
      "source": [
        "### DOWNLOAD The DATASET\n",
        "\n",
        "Once we have finished our preprocessing, we have created a `dataset.zip` file from all the raw images. Now we download this file from our drive in order to start the training phase."
      ],
      "metadata": {
        "id": "5aQ37jq2B0Bx"
      }
    },
    {
      "cell_type": "code",
      "source": [
        "%%capture\n",
        "# Download dataset from google drive\n",
        "\n",
        "!gdown --id 1KhERp3hcRVwhaXSJx7w8xXLrCESmAp1w\n",
        "\n",
        "# unzip the archive file\n",
        "!unzip dataset.zip\n",
        "\n",
        "# we don't need the archive file anymore\n",
        "!rm dataset.zip"
      ],
      "metadata": {
        "id": "Kvobuu08WcoU"
      },
      "execution_count": null,
      "outputs": []
    },
    {
      "cell_type": "markdown",
      "source": [
        "## LOAD THE TEST SET\n",
        "\n",
        "Now we have everything to start the training phase,\n",
        "Let's define some constants for our deep architecture. Each of the constants has its own application which is summarized in the table below:\n",
        "\n",
        "CONSTANT_NAME | APPLICATION\n",
        "-------------------|------------------\n",
        "BATCH_SIZE       | # samples that will be passed through to the network at one time\n",
        "IMAGE_SIZE       | width of the image \n",
        "IMAGE_SHAPE      | shape of the image (image_height, image_width)\n",
        "N_IDENTITY        | the output of the model, the classification layer of the model\n",
        "N_TEMPLATES.      | shows the number of the templates per identity\n"
      ],
      "metadata": {
        "id": "L2-AFDrBpH-L"
      }
    },
    {
      "cell_type": "code",
      "source": [
        "IMAGE_SIZE = 500\n",
        "BATCH_SIZE = 32\n",
        "IMAGE_SHAPE = (IMAGE_SIZE, IMAGE_SIZE)\n",
        "N_IDENTITY=31\n",
        "N_TEMPLATES = 12"
      ],
      "metadata": {
        "id": "8pLSugN3fewQ"
      },
      "execution_count": null,
      "outputs": []
    },
    {
      "cell_type": "code",
      "source": [
        "from tensorflow import keras\n",
        "import os\n",
        "import numpy as np\n",
        "from keras.preprocessing.image import img_to_array, load_img\n",
        "import cv2\n",
        "from tqdm import tqdm\n",
        "\n",
        "def get_dataset():\n",
        "  \n",
        "  images = []\n",
        "  test_set_path = os.path.join('/content', 'test_set')\n",
        "\n",
        "  for folder in tqdm(os.listdir(test_set_path)):\n",
        "      folder_path = os.path.join(test_set_path, folder)\n",
        "      for image in os.listdir(folder_path):\n",
        "        if any([image.endswith(extention) for extention in ['.png', '.jpeg']]):\n",
        "\n",
        "            image_path = os.path.join(test_set_path, folder, image)\n",
        "        \n",
        "            images.append(img_to_array(load_img(image_path)))\n",
        "  return np.array(images)"
      ],
      "metadata": {
        "id": "EPiUN6SZhIy_"
      },
      "execution_count": null,
      "outputs": []
    },
    {
      "cell_type": "code",
      "source": [
        "test_set = get_dataset()"
      ],
      "metadata": {
        "colab": {
          "base_uri": "https://localhost:8080/"
        },
        "id": "47r8P2hJjRWU",
        "outputId": "776bfe42-9a41-4a58-de72-568a5893302e"
      },
      "execution_count": null,
      "outputs": [
        {
          "output_type": "stream",
          "name": "stderr",
          "text": [
            "100%|██████████| 31/31 [00:02<00:00, 12.58it/s]\n"
          ]
        }
      ]
    },
    {
      "cell_type": "code",
      "source": [
        "test_set.shape"
      ],
      "metadata": {
        "colab": {
          "base_uri": "https://localhost:8080/"
        },
        "id": "3lvwFjoyjUPR",
        "outputId": "c622200d-4e0c-4516-c9af-03fea8ab486a"
      },
      "execution_count": null,
      "outputs": [
        {
          "output_type": "execute_result",
          "data": {
            "text/plain": [
              "(372, 500, 500, 3)"
            ]
          },
          "metadata": {},
          "execution_count": 6
        }
      ]
    },
    {
      "cell_type": "markdown",
      "source": [
        "### VISUALIZE A SAMPLE OF THE TEST SET\n",
        "\n",
        "Let's check a sample from the test set. As we mentioned before, the dataset contains some samples which have been preprocessed using image processing techniques. The same pipeline also has been done for the test set."
      ],
      "metadata": {
        "id": "wNMaTO7ENQbx"
      }
    },
    {
      "cell_type": "code",
      "source": [
        "keras.preprocessing.image.array_to_img(\n",
        "    test_set[123]\n",
        "    )"
      ],
      "metadata": {
        "colab": {
          "base_uri": "https://localhost:8080/",
          "height": 517
        },
        "id": "jTIyv11wN6Dn",
        "outputId": "7716999b-b029-4ee3-e06c-812cbeba1c44"
      },
      "execution_count": null,
      "outputs": [
        {
          "output_type": "execute_result",
          "data": {
            "text/plain": [
              "<PIL.Image.Image image mode=RGB size=500x500 at 0x7F24FCFFD650>"
            ],
            "image/png": "[encoded data removed]"
          },
          "metadata": {},
          "execution_count": 7
        }
      ]
    },
    {
      "cell_type": "markdown",
      "source": [
        "## MODEL ARCHITECTURE\n",
        "Let's bring back our model architecture that we have previously trained. Then what we need to do is to load the corresponding weights from google colab and remove the classification layer. the model:\n",
        "*   contained 4 convolutional layers\n",
        "*   contained2 dense layers\n",
        "*   and an output (classification) layer"
      ],
      "metadata": {
        "id": "zjDbuGemqIED"
      }
    },
    {
      "cell_type": "code",
      "source": [
        "from keras import models, layers\n",
        "\n",
        "model = models.Sequential()\n",
        "\n",
        "################################.    1st CONVOLUTIONAL LAYER     ################################\n",
        "\n",
        "model.add(layers.Conv2D(filters=32, input_shape=(IMAGE_SIZE,IMAGE_SIZE,3), kernel_size=(7,7),strides=(2,2), padding='valid'))\n",
        "model.add(layers.Activation('relu'))\n",
        "model.add(layers.MaxPooling2D(pool_size=(3,3), strides=(2,2), padding='valid'))\n",
        "model.add(layers.BatchNormalization()) # Batch Normalisation before passing it to the next layer\n",
        "\n",
        "################################.    2nd CONVOLUTIONAL LAYER     ################################\n",
        "\n",
        "model.add(layers.Conv2D(filters=64, kernel_size=(5,5), strides=(2,2), padding='valid'))\n",
        "model.add(layers.Activation('relu'))\n",
        "model.add(layers.MaxPooling2D(pool_size=(3,3), strides=(2,2), padding='valid'))\n",
        "model.add(layers.BatchNormalization())\n",
        "\n",
        "################################.    3rd CONVOLUTIONAL LAYER     ################################\n",
        "\n",
        "model.add(layers.Conv2D(filters=96, kernel_size=(3,3), strides=(1,1), padding='valid'))\n",
        "model.add(layers.Activation('relu'))\n",
        "model.add(layers.MaxPooling2D(pool_size=(2,2), strides=(2,2), padding='valid'))\n",
        "model.add(layers.BatchNormalization())\n",
        "\n",
        "################################.    4th CONVOLUTIONAL LAYER     ################################\n",
        "\n",
        "model.add(layers.Conv2D(filters=128, kernel_size=(1,1), strides=(1,1), padding='valid'))\n",
        "model.add(layers.Activation('relu'))\n",
        "model.add(layers.MaxPooling2D(pool_size=(3,3), strides=(2,2), padding='valid'))\n",
        "model.add(layers.BatchNormalization())\n",
        "\n",
        "################################    FLATTEN, FOR DENSE LAYER     ################################\n",
        "\n",
        "model.add(layers.Flatten())\n",
        "\n",
        "################################.    DENSE LAYERS: 1st LAYER     ################################\n",
        "\n",
        "model.add(layers.Dense(256, input_shape=(IMAGE_SIZE * IMAGE_SIZE * 3,)))\n",
        "model.add(layers.Activation('relu'))\n",
        "model.add(layers.Dropout(0.4))\n",
        "model.add(layers.BatchNormalization())\n",
        "\n",
        "################################.    DENSE LAYERS: 2nd LAYER     ################################\n",
        "\n",
        "model.add(layers.Dense(256))\n",
        "model.add(layers.Activation('relu'))\n",
        "model.add(layers.Dropout(0.4))\n",
        "model.add(layers.BatchNormalization())\n",
        "\n",
        "\n",
        "################################.    OUTPUT LAYER: CLASSES    ################################\n",
        "\n",
        "model.add(layers.Dense(N_IDENTITY))\n",
        "model.add(layers.Activation('softmax'))"
      ],
      "metadata": {
        "id": "Ntk45F2Plos9"
      },
      "execution_count": null,
      "outputs": []
    },
    {
      "cell_type": "code",
      "source": [
        "model.compile(loss='categorical_crossentropy',\n",
        "              optimizer='sgd',\n",
        "              metrics=['accuracy'])"
      ],
      "metadata": {
        "id": "E9KmX9VmmB3o"
      },
      "execution_count": null,
      "outputs": []
    },
    {
      "cell_type": "markdown",
      "source": [
        "## BIOMETRIC EVALUATION\n",
        "\n",
        "The first thing is to load the model weights from model. Then we need to create a similarity/distance matrix. \n",
        "for this reason, we considered 31 identities with 12 templates per each. So our matrix should have 372 * 372 dimension( 31 * 12 = 372).\n",
        "In the rows we have probes.\n",
        "Each row (we have 372 rows) is a 31 recognition operation. But in the column, we have 372 templates.\n",
        "\n",
        "Let's load the first model weights which was related to the model with only rotation."
      ],
      "metadata": {
        "id": "UF1QkTS4q-Cf"
      }
    },
    {
      "cell_type": "markdown",
      "source": [
        "### FEATURE EXTRACTOR MODEL: <b>SOLO ROTATION</b>\n",
        "\n",
        "Let's access to the last layer of feature from our model. It will be used as our feature extractor modules in order to create a feature vector from the samples."
      ],
      "metadata": {
        "id": "shL83Il5stgu"
      }
    },
    {
      "cell_type": "code",
      "source": [
        "model.load_weights('/content/gdrive/MyDrive/biometric_project/model_solo_rotation/cp-0016.h5')"
      ],
      "metadata": {
        "id": "Q1MN7Oc4l5e6"
      },
      "execution_count": null,
      "outputs": []
    },
    {
      "cell_type": "code",
      "source": [
        "last_feature_layer = model.get_layer(index=24).output"
      ],
      "metadata": {
        "id": "8xf4Za2gTuER"
      },
      "execution_count": null,
      "outputs": []
    },
    {
      "cell_type": "code",
      "source": [
        "feature_extractor = keras.Model(\n",
        "    inputs = model.input,\n",
        "    outputs = last_feature_layer\n",
        ")\n",
        "\n",
        "feature_extractor.compile(optimizer=keras.optimizers.Adam(0.02),\n",
        "            loss='categorical_crossentropy',\n",
        "            metrics=['accuracy'])"
      ],
      "metadata": {
        "id": "0JNMnflbQVID"
      },
      "execution_count": null,
      "outputs": []
    },
    {
      "cell_type": "markdown",
      "source": [
        "### FEATURE VECTOR\n",
        "\n",
        "We are going to pass the test set into our feature extractor model in order to have a prediction for each test set sample. The model predicts a feature vector for each image. \n",
        "\n",
        "Then we reshape the result into a list of the feature vectors in which each element in the final list is a feature vector corresponding to each sample in the dataset."
      ],
      "metadata": {
        "id": "PQSdrhVbsqQ6"
      }
    },
    {
      "cell_type": "code",
      "source": [
        "fetures_test_set = feature_extractor.predict(test_set)"
      ],
      "metadata": {
        "id": "Q5R9XvuZtesj"
      },
      "execution_count": null,
      "outputs": []
    },
    {
      "cell_type": "code",
      "source": [
        "feature_test_set = fetures_test_set.reshape(test_set.shape[0], -1)"
      ],
      "metadata": {
        "id": "Q-xgZTSfterW"
      },
      "execution_count": null,
      "outputs": []
    },
    {
      "cell_type": "markdown",
      "source": [
        "### SIMILARITY MATRIX\n",
        "To be able to perform an evaluation task we need to create a similarity/distance matrix. We considered the similarity matrix. to compare two vector similarity we have taken into consideration the two famous cosine and correlation similarities.\n",
        "\n",
        "Let's define two functions for each method."
      ],
      "metadata": {
        "id": "sxGQHgNSuKXf"
      }
    },
    {
      "cell_type": "code",
      "source": [
        "def cosine_similarity_matrix(features):\n",
        "    matrix = []\n",
        "    cosine_function = lambda a,b : np.dot(a, b) / (np.linalg.norm(a)*np.linalg.norm(b))\n",
        "    for feature in features:\n",
        "        similarities = [\n",
        "            cosine_function(feature, x) for x in features\n",
        "        ]\n",
        "\n",
        "        matrix.append(np.array(similarities))\n",
        "    return np.array(matrix)\n",
        "        \n",
        "\n",
        "\n",
        "def correlation_similarity_matrix(features):\n",
        "    return np.corrcoef(features)"
      ],
      "metadata": {
        "id": "wRrPlbB1xolm"
      },
      "execution_count": null,
      "outputs": []
    },
    {
      "cell_type": "code",
      "source": [
        "cosine_similarity       = cosine_similarity_matrix(feature_test_set)\n",
        "correlation_similarity  = correlation_similarity_matrix(feature_test_set)"
      ],
      "metadata": {
        "id": "f6W-NffGuRZB"
      },
      "execution_count": null,
      "outputs": []
    },
    {
      "cell_type": "code",
      "source": [
        "print(cosine_similarity.shape)\n",
        "print(correlation_similarity.shape)"
      ],
      "metadata": {
        "colab": {
          "base_uri": "https://localhost:8080/"
        },
        "id": "BSziNTSo183C",
        "outputId": "c7c34e2a-0a54-4141-f550-08493e245dac"
      },
      "execution_count": null,
      "outputs": [
        {
          "output_type": "stream",
          "name": "stdout",
          "text": [
            "(372, 372)\n",
            "(372, 372)\n"
          ]
        }
      ]
    },
    {
      "cell_type": "markdown",
      "source": [
        "Now, we have a 372 * 372 matrix that gives us the ability to perform an all-against-all evaluation task."
      ],
      "metadata": {
        "id": "4uhD6YLavF_s"
      }
    },
    {
      "cell_type": "markdown",
      "source": [
        "### IMPOSTER/GENUINE SCORES\n",
        "We are going to use the pyeer library. this library is using two different scores as the input. One corresponds to imposters scores, and the other is the genuine scores.\n",
        "\n",
        "To be able to separate those scores we have defined the following function."
      ],
      "metadata": {
        "id": "xx7Xj0envY0q"
      }
    },
    {
      "cell_type": "code",
      "source": [
        "def separated_imposters_genuine_scores(similarity_matrix):\n",
        "    genuine_scores = []\n",
        "    imposter_scores = []\n",
        "    for probe in range(0, similarity_matrix.shape[0]): # for each probe of the matrix ===> probe\n",
        "        for identity in range(N_IDENTITY): # loop over the columns based on the identities\n",
        "\n",
        "            identity_templates_indexes = np.arange(identity * N_TEMPLATES, (identity + 1) * N_TEMPLATES) \n",
        "            identity_templates_indexes_excluded = identity_templates_indexes[np.where(identity_templates_indexes!=probe)]\n",
        "            identity_templates_scores  = similarity_matrix[probe, identity_templates_indexes_excluded]\n",
        "\n",
        "            if(identity == probe//N_TEMPLATES):\n",
        "                genuine_scores.append(identity_templates_scores)\n",
        "            else:\n",
        "                imposter_scores.append(identity_templates_scores)\n",
        "\n",
        "    return np.array(genuine_scores), np.array(imposter_scores)"
      ],
      "metadata": {
        "id": "HZQ3V1KLOxeL"
      },
      "execution_count": null,
      "outputs": []
    },
    {
      "cell_type": "markdown",
      "source": [
        "The function above will be used as an input for the pyeer library."
      ],
      "metadata": {
        "id": "ZQAJWAA0wEZf"
      }
    },
    {
      "cell_type": "markdown",
      "source": [
        "### CONFUSION MATRIX\n",
        "One interesting thing to do is to create a confusion matrix from the scores which will be able to show how good a biometric system is. To create such matrix we can define very similar method from function above, but this time we split the imposter scores and genuine scores into two subset. and consider a threshold for the methods."
      ],
      "metadata": {
        "id": "A6yNoz87wTuO"
      }
    },
    {
      "cell_type": "code",
      "source": [
        "def confusion(similarity_matrix, threshold):\n",
        "    confusion_matrix = np.array([\n",
        "        [0, 0], # [Genuine Match(GM, GA)     False   Non-Match(FNM, FR)]\n",
        "        [0, 0]  # [False   Match(FM, FA)     Genuine Non-Match(GNM, GR)]\n",
        "    ])\n",
        "\n",
        "    for probe in range(0, similarity_matrix.shape[0]): # for each probe of the matrix ===> probe\n",
        "        for identity in range(N_IDENTITY): # loop over the columns based on the identities\n",
        "\n",
        "            # each tamplate of the identity in the matrix has a column index\n",
        "            '''\n",
        "                                        \n",
        "                identity_0 template_0   0 1 2 3 4 5 6 7 8 9 10 11 __ 12 13 14 15 16 17 18 19 20 21 22 23 __ ... 370 371\n",
        "                identity_0 template_1   0 1 2 3 4 5 6 7 8 9 10 11 __ 12 13 14 15 16 17 18 19 20 21 22 23 __ ... 370 371\n",
        "                identity_0 template_3   0 1 2 3 4 5 6 7 8 9 10 11 __ 12 13 14 15 16 17 18 19 20 21 22 23 __ ... 370 371\n",
        "                        .\n",
        "                        .\n",
        "                identity_0 template_11  0 1 2 3 4 5 6 7 8 9 10 11 __ 12 13 14 15 16 17 18 19 20 21 22 23 __ ... 370 371\n",
        "                identity_1 template_0   0 1 2 3 4 5 6 7 8 9 10 11 __ 12 13 14 15 16 17 18 19 20 21 22 23 __ ... 370 371\n",
        "                        .\n",
        "                        .\n",
        "                identity_30 template_11 0 1 2 3 4 5 6 7 8 9 10 11 __ 12 13 14 15 16 17 18 19 20 21 22 23 __ ... 370 371\n",
        "\n",
        "            '''\n",
        "            identity_templates_indexes = np.arange(identity * N_TEMPLATES, (identity + 1) * N_TEMPLATES) \n",
        "            identity_templates_indexes_excluded = identity_templates_indexes[np.where(identity_templates_indexes!=probe)]\n",
        "            identity_templates_scores  = similarity_matrix[probe, identity_templates_indexes_excluded]\n",
        "\n",
        "            if (identity_templates_scores.max() > threshold): # possible genuine acceptance\n",
        "                if(identity == probe//N_TEMPLATES): # check to see whether the identity id is the same probe identity\n",
        "                    confusion_matrix[0, 0] +=1    # Genuine Match or Genuine Acceptance (GM, GA)\n",
        "                else:\n",
        "                    confusion_matrix[1, 0] +=1.   # False Match or False Acceptance (FM, FA)\n",
        "            else: # possible imposters\n",
        "                if(identity == probe//N_TEMPLATES):# check to see whether the identity id is the same probe identity\n",
        "                    confusion_matrix[0, 1] += 1   # False Non-Match or False Rejection (FNM, FR)\n",
        "                else:\n",
        "                    confusion_matrix[1, 1] += 1   # Genuine Non-Match or Genuine Rejection(GNM, GR)\n",
        "        \n",
        "    return confusion_matrix"
      ],
      "metadata": {
        "id": "G-8w_kOQ2Edn"
      },
      "execution_count": null,
      "outputs": []
    },
    {
      "cell_type": "code",
      "source": [
        "confusion(correlation_similarity, 0.75)"
      ],
      "metadata": {
        "colab": {
          "base_uri": "https://localhost:8080/"
        },
        "id": "TtPud8qrV69j",
        "outputId": "c92bc7e1-0ae1-4aa9-b388-dadb0ea0cef4"
      },
      "execution_count": null,
      "outputs": [
        {
          "output_type": "execute_result",
          "data": {
            "text/plain": [
              "array([[  229,   143],\n",
              "       [  522, 10638]])"
            ]
          },
          "metadata": {},
          "execution_count": 23
        }
      ]
    },
    {
      "cell_type": "code",
      "source": [
        "confusion(cosine_similarity, 0.75)"
      ],
      "metadata": {
        "colab": {
          "base_uri": "https://localhost:8080/"
        },
        "id": "wcJZMtrwKgMe",
        "outputId": "2d43c711-ac99-4a88-e2d0-f29b1c3f9172"
      },
      "execution_count": null,
      "outputs": [
        {
          "output_type": "execute_result",
          "data": {
            "text/plain": [
              "array([[  231,   141],\n",
              "       [  612, 10548]])"
            ]
          },
          "metadata": {},
          "execution_count": 27
        }
      ]
    },
    {
      "cell_type": "code",
      "source": [
        "genuine_scores_corr, impostor_scores_corr = separated_imposters_genuine_scores(correlation_similarity)"
      ],
      "metadata": {
        "id": "g4cx3acELxn5"
      },
      "execution_count": null,
      "outputs": []
    },
    {
      "cell_type": "code",
      "source": [
        "genuine_scores_sim, impostor_scores_sim = separated_imposters_genuine_scores(cosine_similarity)"
      ],
      "metadata": {
        "id": "tto7s0DHPPKW"
      },
      "execution_count": null,
      "outputs": []
    },
    {
      "cell_type": "code",
      "source": [
        "print(genuine_scores_corr.flatten().shape, impostor_scores_corr.flatten().shape)"
      ],
      "metadata": {
        "colab": {
          "base_uri": "https://localhost:8080/"
        },
        "id": "Ug4mewi3PVgV",
        "outputId": "5855eb15-d1f5-4c1c-a30b-7b943f2d787e"
      },
      "execution_count": null,
      "outputs": [
        {
          "output_type": "stream",
          "name": "stdout",
          "text": [
            "(4092,) (133920,)\n"
          ]
        }
      ]
    },
    {
      "cell_type": "code",
      "source": [
        "print(genuine_scores_sim.flatten().shape, impostor_scores_sim.flatten().shape)"
      ],
      "metadata": {
        "colab": {
          "base_uri": "https://localhost:8080/"
        },
        "id": "oSf9VteNPeoA",
        "outputId": "31bfafe5-bf45-4c46-9e80-aabb0c295694"
      },
      "execution_count": null,
      "outputs": [
        {
          "output_type": "stream",
          "name": "stdout",
          "text": [
            "(4092,) (133920,)\n"
          ]
        }
      ]
    },
    {
      "cell_type": "markdown",
      "source": [
        "### REPORT AND FOM (FIGURES OF MERIT)\n",
        "\n",
        "To evaluate the system we have used the pyeer library in which we are able to perform all-against-all evaluation and plot different biometric figures."
      ],
      "metadata": {
        "id": "rnT_IfzTezhS"
      }
    },
    {
      "cell_type": "code",
      "source": [
        "%%capture\n",
        "!pip install pyeer"
      ],
      "metadata": {
        "id": "hycK70afPrVv"
      },
      "execution_count": null,
      "outputs": []
    },
    {
      "cell_type": "code",
      "source": [
        "from pyeer.eer_info import get_eer_stats\n",
        "stats_corr_model_rotation = get_eer_stats(\n",
        "    gen_scores = genuine_scores_corr.flatten(),\n",
        "    imp_scores = impostor_scores_corr.flatten() \n",
        ")\n",
        "stats_sim_model_rotation = get_eer_stats(\n",
        "    gen_scores = genuine_scores_sim.flatten(),\n",
        "    imp_scores = impostor_scores_sim.flatten() \n",
        ")"
      ],
      "metadata": {
        "id": "xwoEUPyVPnDX"
      },
      "execution_count": null,
      "outputs": []
    },
    {
      "cell_type": "code",
      "source": [
        "from pyeer.plot import plot_eer_stats\n",
        "plot_eer_stats(\n",
        "    [stats_corr_model_rotation],\n",
        "    ['model_solo_rotation_correlation'],\n",
        "    line_width=2,\n",
        "    save_plots=True,\n",
        "    lgf_size=15,\n",
        "    dpi=1000,\n",
        "    bins=correlation_similarity.shape[0],\n",
        "    save_path='/content/gdrive/MyDrive/biometric_project/scores/solo_rotation/correlation',\n",
        "    ext='.jpeg'\n",
        ")"
      ],
      "metadata": {
        "id": "IdQdgYQuQqeq"
      },
      "execution_count": null,
      "outputs": []
    },
    {
      "cell_type": "code",
      "source": [
        "from pyeer.plot import plot_eer_stats\n",
        "plot_eer_stats(\n",
        "    [stats_sim_model_rotation],\n",
        "    ['model_solo_rotation_similarity'],\n",
        "    line_width=2,\n",
        "    save_plots=True,\n",
        "    lgf_size=15,\n",
        "    dpi=1000,\n",
        "    bins=correlation_similarity.shape[0],\n",
        "    save_path='/content/gdrive/MyDrive/biometric_project/scores/solo_rotation/similarity',\n",
        "    ext='.jpeg'\n",
        ")"
      ],
      "metadata": {
        "id": "6S2ownjcSt7L"
      },
      "execution_count": null,
      "outputs": []
    },
    {
      "cell_type": "markdown",
      "source": [
        "### FEATURE EXTRACTOR MODEL : <b>MORE AUGMENTATION</b>\n",
        "\n",
        "Let's now load the second model with more augmentation options."
      ],
      "metadata": {
        "id": "kLBYNc0wYC47"
      }
    },
    {
      "cell_type": "code",
      "source": [
        "model.load_weights('/content/gdrive/MyDrive/biometric_project/model_full_aug/cp-0018.h5')"
      ],
      "metadata": {
        "id": "26R7ADnBYC5H"
      },
      "execution_count": null,
      "outputs": []
    },
    {
      "cell_type": "code",
      "source": [
        "last_feature_layer = model.get_layer(index=24).output"
      ],
      "metadata": {
        "id": "Zk4kCDicYC5H"
      },
      "execution_count": null,
      "outputs": []
    },
    {
      "cell_type": "code",
      "source": [
        "feature_extractor_full_aug = keras.Model(\n",
        "    inputs = model.input,\n",
        "    outputs = last_feature_layer\n",
        ")\n",
        "\n",
        "feature_extractor_full_aug.compile(optimizer=keras.optimizers.Adam(0.02),\n",
        "            loss='categorical_crossentropy',\n",
        "            metrics=['accuracy'])"
      ],
      "metadata": {
        "id": "mxcUAkLmYC5I"
      },
      "execution_count": null,
      "outputs": []
    },
    {
      "cell_type": "markdown",
      "source": [
        "### FEATURE VECTOR: Second model\n",
        "\n",
        "Like before we start extracting the features using the model extractor"
      ],
      "metadata": {
        "id": "uSAKmpLFYC5I"
      }
    },
    {
      "cell_type": "code",
      "source": [
        "fetures_test_set_full_aug = feature_extractor_full_aug.predict(test_set)"
      ],
      "metadata": {
        "id": "XorTsLS7YC5I"
      },
      "execution_count": null,
      "outputs": []
    },
    {
      "cell_type": "code",
      "source": [
        "feature_test_set_full_aug = fetures_test_set_full_aug.reshape(test_set.shape[0], -1)"
      ],
      "metadata": {
        "id": "Xk1wmMabYC5I"
      },
      "execution_count": null,
      "outputs": []
    },
    {
      "cell_type": "markdown",
      "source": [
        "### SIMILARITY MATRIX\n"
      ],
      "metadata": {
        "id": "xkXOYyw2YC5I"
      }
    },
    {
      "cell_type": "code",
      "source": [
        "cosine_similarity_full_aug       = cosine_similarity_matrix(feature_test_set_full_aug)\n",
        "correlation_similarity_full_aug  = correlation_similarity_matrix(feature_test_set_full_aug)"
      ],
      "metadata": {
        "id": "nqnx84HPYC5I"
      },
      "execution_count": null,
      "outputs": []
    },
    {
      "cell_type": "code",
      "source": [
        "print(correlation_similarity_full_aug.shape)\n",
        "print(cosine_similarity_full_aug.shape)"
      ],
      "metadata": {
        "colab": {
          "base_uri": "https://localhost:8080/"
        },
        "outputId": "54e1d500-3b41-40bd-bac2-efbb31912ad6",
        "id": "QooxGDWXYC5I"
      },
      "execution_count": null,
      "outputs": [
        {
          "output_type": "stream",
          "name": "stdout",
          "text": [
            "(372, 372)\n",
            "(372, 372)\n"
          ]
        }
      ]
    },
    {
      "cell_type": "markdown",
      "source": [
        "Now, we have a 372 * 372 matrix that gives us the ability to perform an all-against-all evaluation task."
      ],
      "metadata": {
        "id": "i09umqLkYC5I"
      }
    },
    {
      "cell_type": "markdown",
      "source": [
        "### CONFUSION MATRIX\n"
      ],
      "metadata": {
        "id": "AkTsBX5pYC5J"
      }
    },
    {
      "cell_type": "code",
      "source": [
        "confusion(correlation_similarity_full_aug, 0.75)"
      ],
      "metadata": {
        "colab": {
          "base_uri": "https://localhost:8080/"
        },
        "outputId": "4d3834f2-94ba-41a2-e1c2-f71b40ea3476",
        "id": "apqbLOj2YC5J"
      },
      "execution_count": null,
      "outputs": [
        {
          "output_type": "execute_result",
          "data": {
            "text/plain": [
              "array([[  308,    64],\n",
              "       [  873, 10287]])"
            ]
          },
          "metadata": {},
          "execution_count": 61
        }
      ]
    },
    {
      "cell_type": "code",
      "source": [
        "confusion(cosine_similarity_full_aug, 0.75)"
      ],
      "metadata": {
        "colab": {
          "base_uri": "https://localhost:8080/"
        },
        "outputId": "25a4e0e2-dd8c-4e59-c34c-61787d9d3820",
        "id": "2DjyQO-_YC5J"
      },
      "execution_count": null,
      "outputs": [
        {
          "output_type": "execute_result",
          "data": {
            "text/plain": [
              "array([[  340,    32],\n",
              "       [  877, 10283]])"
            ]
          },
          "metadata": {},
          "execution_count": 62
        }
      ]
    },
    {
      "cell_type": "code",
      "source": [
        "genuine_scores_corr_full_aug, impostor_scores_corr_full_aug = separated_imposters_genuine_scores(correlation_similarity_full_aug)"
      ],
      "metadata": {
        "id": "z0Cb3XJdYC5J"
      },
      "execution_count": null,
      "outputs": []
    },
    {
      "cell_type": "code",
      "source": [
        "genuine_scores_sim_full_aug, impostor_scores_sim_full_aug = separated_imposters_genuine_scores(cosine_similarity_full_aug)"
      ],
      "metadata": {
        "id": "CRil_OETYC5J"
      },
      "execution_count": null,
      "outputs": []
    },
    {
      "cell_type": "code",
      "source": [
        "print(genuine_scores_corr_full_aug.flatten().shape, impostor_scores_corr_full_aug.flatten().shape)"
      ],
      "metadata": {
        "colab": {
          "base_uri": "https://localhost:8080/"
        },
        "outputId": "b72ce212-27a4-407e-d39b-d0d924ee4532",
        "id": "vt0IOlz6YC5J"
      },
      "execution_count": null,
      "outputs": [
        {
          "output_type": "stream",
          "name": "stdout",
          "text": [
            "(4092,) (133920,)\n"
          ]
        }
      ]
    },
    {
      "cell_type": "code",
      "source": [
        "print(genuine_scores_sim_full_aug.flatten().shape, impostor_scores_sim_full_aug.flatten().shape)"
      ],
      "metadata": {
        "colab": {
          "base_uri": "https://localhost:8080/"
        },
        "outputId": "4aaf7a5f-f90d-483e-86cc-b5743dedcf55",
        "id": "jOB1TPAFYC5J"
      },
      "execution_count": null,
      "outputs": [
        {
          "output_type": "stream",
          "name": "stdout",
          "text": [
            "(4092,) (133920,)\n"
          ]
        }
      ]
    },
    {
      "cell_type": "code",
      "source": [
        "from pyeer.eer_info import get_eer_stats\n",
        "stats_corr_model_full_aug = get_eer_stats(\n",
        "    gen_scores = genuine_scores_corr_full_aug.flatten(),\n",
        "    imp_scores = impostor_scores_corr_full_aug.flatten() \n",
        ")\n",
        "stats_sim_model_full_aug = get_eer_stats(\n",
        "    gen_scores = genuine_scores_sim_full_aug.flatten(),\n",
        "    imp_scores = impostor_scores_sim_full_aug.flatten() \n",
        ")"
      ],
      "metadata": {
        "id": "OOrzuai0YC5J"
      },
      "execution_count": null,
      "outputs": []
    },
    {
      "cell_type": "code",
      "source": [
        "from pyeer.plot import plot_eer_stats\n",
        "plot_eer_stats(\n",
        "    [stats_corr_model_full_aug],\n",
        "    ['model_full_aug_correlation'],\n",
        "    line_width=2,\n",
        "    save_plots=True,\n",
        "    lgf_size=15,\n",
        "    dpi=1000,\n",
        "    bins=correlation_similarity_full_aug.shape[0],\n",
        "    save_path='/content/gdrive/MyDrive/biometric_project/scores/full_aug/correlation',\n",
        "    ext='.jpeg'\n",
        ")"
      ],
      "metadata": {
        "id": "lt51T6-_YC5J"
      },
      "execution_count": null,
      "outputs": []
    },
    {
      "cell_type": "code",
      "source": [
        "from pyeer.plot import plot_eer_stats\n",
        "plot_eer_stats(\n",
        "    [stats_sim_model_full_aug],\n",
        "    ['model_full_aug_similarity'],\n",
        "    line_width=2,\n",
        "    save_plots=True,\n",
        "    lgf_size=15,\n",
        "    dpi=1000,\n",
        "    bins=correlation_similarity_full_aug.shape[0],\n",
        "    save_path='/content/gdrive/MyDrive/biometric_project/scores/full_aug/similarity',\n",
        "    ext='.jpeg'\n",
        ")"
      ],
      "metadata": {
        "id": "YclAx8IDYC5K"
      },
      "execution_count": null,
      "outputs": []
    },
    {
      "cell_type": "markdown",
      "source": [
        "## Report\n"
      ],
      "metadata": {
        "id": "G_MGvOqJS4Dh"
      }
    },
    {
      "cell_type": "code",
      "source": [
        "from pyeer.report import generate_eer_report\n",
        "generate_eer_report(\n",
        "    [stats_corr_model_rotation, stats_sim_model_rotation, stats_corr_model_full_aug, stats_sim_model_full_aug], \n",
        "    ['solo_rotation_correlation', 'solo_rotation_cosine' , 'full_aug_correlation' , 'full_aug_cosine'], \n",
        "    '/content/gdrive/MyDrive/biometric_project/scores/report.html'\n",
        "    )"
      ],
      "metadata": {
        "id": "1HVe5zKeRGb_"
      },
      "execution_count": null,
      "outputs": []
    }
  ]
}
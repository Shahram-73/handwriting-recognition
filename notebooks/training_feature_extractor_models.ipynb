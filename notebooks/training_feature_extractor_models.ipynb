{
  "cells": [
    {
      "cell_type": "markdown",
      "source": [
        "# FEATURE EXTRACTION NOTEBOOK\n",
        "\n",
        "Feature extraction refers to the process of transforming raw data into features that can be processed while preserving the information in the original data set. It yields better results than applying machine learning directly to the raw data.\n",
        "\n",
        "So far, we have done a bit of preprocessing using some image processing techniques. We have taken the open-cv libraries into account to apply such preprocessing. \n",
        "The resulting images have been archived into the dataset folder and transferred to google drive."
      ],
      "metadata": {
        "id": "x7o2q8Jy8BuB"
      }
    },
    {
      "cell_type": "markdown",
      "source": [
        "## PREPARATION\n",
        "In the following, we are going to set some constants in order to use them later on. We also have mounting google drive in order to save the training logs into our g-drive."
      ],
      "metadata": {
        "id": "3CleXUVKAnK9"
      }
    },
    {
      "cell_type": "markdown",
      "source": [
        "### MOUNTING GOOGLE DRIVE\n",
        "The first thing to do is to give google colab permission to access our drive so as to save the training checkpoints."
      ],
      "metadata": {
        "id": "dxagsqpcBOK2"
      }
    },
    {
      "cell_type": "code",
      "execution_count": 2,
      "metadata": {
        "colab": {
          "base_uri": "https://localhost:8080/"
        },
        "id": "vt3UIPjm6FIb",
        "outputId": "3ff72efd-7dad-4baf-dc04-3e7a75548e98"
      },
      "outputs": [
        {
          "output_type": "stream",
          "name": "stdout",
          "text": [
            "Mounted at /content/gdrive\n"
          ]
        }
      ],
      "source": [
        "#MOUNTING GOOGLE DRIVE\n",
        "\n",
        "from google.colab import drive\n",
        "drive.mount('/content/gdrive',  force_remount=True) \n",
        "\n",
        "# force_remount is an argument to force google drive to mount once again."
      ]
    },
    {
      "cell_type": "markdown",
      "source": [
        "### DOWNLOAD DATASET\n",
        "\n",
        "Once we have finished our preprocessing, we have created a `dataset.zip` file from all the raw images. Now we download this file from our drive in order to start the training phase."
      ],
      "metadata": {
        "id": "5aQ37jq2B0Bx"
      }
    },
    {
      "cell_type": "code",
      "source": [
        "# Download dataset from google drive\n",
        "!gdown --id 1KhERp3hcRVwhaXSJx7w8xXLrCESmAp1w\n",
        "\n",
        "# unzip the archive file\n",
        "!unzip dataset.zip\n",
        "\n",
        "# we don't need the archive file anymore\n",
        "!rm dataset.zip"
      ],
      "metadata": {
        "id": "Kvobuu08WcoU"
      },
      "execution_count": null,
      "outputs": []
    },
    {
      "cell_type": "code",
      "source": [
        "BATCH_SIZE = 32\n",
        "IMAGE_SIZE = 500\n",
        "IMAGE_SHAPE = (IMAGE_SIZE, IMAGE_SIZE)\n",
        "N_CLASSES = 31"
      ],
      "metadata": {
        "id": "Rl_aITkSp_s0"
      },
      "execution_count": null,
      "outputs": []
    },
    {
      "cell_type": "code",
      "source": [
        "from tensorflow import keras\n",
        "\n",
        "data_generator = keras.preprocessing.image.ImageDataGenerator(\n",
        "    rotation_range=7, # rotation\n",
        "    # width_shift_range=0.1,\n",
        "    # height_shift_range=0.1,\n",
        "    # brightness_range=(0.8, 1.2), # illumination\n",
        "    # zoom_range=0.1, # zooming\n",
        "    # horizontal_flip=False,\n",
        "    # vertical_flip=False,\n",
        "    # rescale=5,\n",
        "    validation_split=0.1,\n",
        ")"
      ],
      "metadata": {
        "id": "aR53VNj4qFn9"
      },
      "execution_count": null,
      "outputs": []
    },
    {
      "cell_type": "code",
      "source": [
        "import os\n",
        "\n",
        "train_set = data_generator.flow_from_directory(\n",
        "    os.path.join('/content', 'train_set'), \n",
        "    target_size=IMAGE_SHAPE, \n",
        "    batch_size=BATCH_SIZE, \n",
        "    class_mode='categorical',\n",
        "    subset=\"training\"\n",
        ")\n",
        "\n",
        "val_set = data_generator.flow_from_directory(\n",
        "    os.path.join('/content', 'train_set'), \n",
        "    target_size=IMAGE_SHAPE, \n",
        "    batch_size=BATCH_SIZE, \n",
        "    class_mode='categorical',\n",
        "    subset=\"validation\"\n",
        ")"
      ],
      "metadata": {
        "id": "8yRSNALsSDvc",
        "colab": {
          "base_uri": "https://localhost:8080/"
        },
        "outputId": "9a95c286-cf61-412e-ff41-ba2b3d174510"
      },
      "execution_count": null,
      "outputs": [
        {
          "output_type": "stream",
          "name": "stdout",
          "text": [
            "Found 1116 images belonging to 31 classes.\n",
            "Found 124 images belonging to 31 classes.\n"
          ]
        }
      ]
    },
    {
      "cell_type": "code",
      "source": [
        "import matplotlib.pyplot as plt\n",
        "%matplotlib inline\n",
        "plt.rcParams.update({'figure.figsize':(7,5), 'figure.dpi':100})\n",
        "\n",
        "# Plot Histogram on x\n",
        "plt.hist(train_set.classes, bins=31)\n",
        "plt.gca().set(title='Frequency Histogram', ylabel='Frequency');"
      ],
      "metadata": {
        "colab": {
          "base_uri": "https://localhost:8080/",
          "height": 460
        },
        "id": "muTp3BxnUAjH",
        "outputId": "b518eb4a-a91d-48a9-96d6-f6ac3fe82207"
      },
      "execution_count": null,
      "outputs": [
        {
          "output_type": "display_data",
          "data": {
            "text/plain": [
              "<Figure size 700x500 with 1 Axes>"
            ],
            "image/png": "[encoded data removed]"
          },
          "metadata": {
            "needs_background": "light"
          }
        }
      ]
    },
    {
      "cell_type": "code",
      "source": [
        "from keras.preprocessing.image import array_to_img\n",
        "def skl(dataset):\n",
        "  for data in dataset:\n",
        "    return data[0][0]\n",
        "array_to_img(skl(train_set))"
      ],
      "metadata": {
        "colab": {
          "base_uri": "https://localhost:8080/",
          "height": 517
        },
        "id": "r19Rr6Kvwc10",
        "outputId": "367af48f-d3d2-4525-e994-17a68634ec67"
      },
      "execution_count": null,
      "outputs": [
        {
          "output_type": "execute_result",
          "data": {
            "text/plain": [
              "<PIL.Image.Image image mode=RGB size=500x500 at 0x7F5311629B10>"
            ],
            "image/png": "[encoded data removed]"
          },
          "metadata": {},
          "execution_count": 8
        }
      ]
    },
    {
      "cell_type": "code",
      "source": [
        "from keras.callbacks import ReduceLROnPlateau, ModelCheckpoint, EarlyStopping"
      ],
      "metadata": {
        "id": "sdCnwWxNxlRa"
      },
      "execution_count": null,
      "outputs": []
    },
    {
      "cell_type": "code",
      "source": [
        "# reduces learning rate if no improvement are seen\n",
        "learning_rate_reduction = ReduceLROnPlateau(monitor='val_loss',\n",
        "                                            patience=1,\n",
        "                                            verbose=0,\n",
        "                                            factor=0.2,\n",
        "                                            min_lr=0.000001)\n",
        "\n",
        "# stop training if no improvements are seen\n",
        "early_stop = EarlyStopping(monitor=\"val_loss\",\n",
        "                            mode=\"min\",\n",
        "                            patience=3,\n",
        "                            restore_best_weights=True)\n",
        "\n",
        "# saves model weights to file\n",
        "checkpoint = ModelCheckpoint(os.path.join('/content/gdrive/MyDrive/biometric_project/model', 'cp-{epoch:04d}.h5'),\n",
        "                            monitor='val_loss',\n",
        "                            verbose=0,\n",
        "                            save_best_only=True,\n",
        "                            mode='min',\n",
        "                            save_weights_only=True)\n"
      ],
      "metadata": {
        "id": "2vLNWcLzyScf"
      },
      "execution_count": null,
      "outputs": []
    },
    {
      "cell_type": "code",
      "source": [
        "from keras import models, layers\n",
        "\n",
        "model = models.Sequential()\n",
        "\n",
        "# 1st Convolutional Layer\n",
        "model.add(layers.Conv2D(filters=32, input_shape=(IMAGE_SIZE,IMAGE_SIZE,3), kernel_size=(7,7),strides=(2,2), padding='valid'))\n",
        "model.add(layers.Activation('relu'))\n",
        "# Pooling \n",
        "model.add(layers.MaxPooling2D(pool_size=(3,3), strides=(2,2), padding='valid'))\n",
        "# Batch Normalisation before passing it to the next layer\n",
        "model.add(layers.BatchNormalization())\n",
        "\n",
        "# 2nd Convolutional Layer\n",
        "model.add(layers.Conv2D(filters=64, kernel_size=(5,5), strides=(2,2), padding='valid'))\n",
        "model.add(layers.Activation('relu'))\n",
        "# Pooling\n",
        "model.add(layers.MaxPooling2D(pool_size=(3,3), strides=(2,2), padding='valid'))\n",
        "# Batch Normalisation\n",
        "model.add(layers.BatchNormalization())\n",
        "\n",
        "# 3rd Convolutional Layer\n",
        "model.add(layers.Conv2D(filters=96, kernel_size=(3,3), strides=(1,1), padding='valid'))\n",
        "model.add(layers.Activation('relu'))\n",
        "# Batch Normalisation\n",
        "model.add(layers.MaxPooling2D(pool_size=(2,2), strides=(2,2), padding='valid'))\n",
        "model.add(layers.BatchNormalization())\n",
        "\n",
        "# 4th Convolutional Layer\n",
        "model.add(layers.Conv2D(filters=128, kernel_size=(1,1), strides=(1,1), padding='valid'))\n",
        "model.add(layers.Activation('relu'))\n",
        "# Batch Normalisation\n",
        "model.add(layers.MaxPooling2D(pool_size=(3,3), strides=(2,2), padding='valid'))\n",
        "model.add(layers.BatchNormalization())\n",
        "\n",
        "\n",
        "# Passing it to a dense layer\n",
        "model.add(layers.Flatten())\n",
        "# 1st Dense Layer\n",
        "model.add(layers.Dense(256, input_shape=(IMAGE_SIZE*IMAGE_SIZE*3,)))\n",
        "model.add(layers.Activation('relu'))\n",
        "# Add Dropout to prevent overfitting\n",
        "model.add(layers.Dropout(0.4))\n",
        "# Batch Normalisation\n",
        "model.add(layers.BatchNormalization())\n",
        "\n",
        "# 2nd Dense Layer\n",
        "model.add(layers.Dense(256))\n",
        "model.add(layers.Activation('relu'))\n",
        "# Add Dropout\n",
        "model.add(layers.Dropout(0.4))\n",
        "# Batch Normalisation\n",
        "model.add(layers.BatchNormalization())\n",
        "\n",
        "\n",
        "# Output Layer\n",
        "model.add(layers.Dense(N_CLASSES))\n",
        "model.add(layers.Activation('softmax'))\n",
        "\n",
        "model.summary()"
      ],
      "metadata": {
        "colab": {
          "base_uri": "https://localhost:8080/"
        },
        "id": "OLLe3aKK0B2p",
        "outputId": "34962a95-e44f-4e87-cc6a-1806106c4c51"
      },
      "execution_count": null,
      "outputs": [
        {
          "output_type": "stream",
          "name": "stdout",
          "text": [
            "Model: \"sequential\"\n",
            "_________________________________________________________________\n",
            " Layer (type)                Output Shape              Param #   \n",
            "=================================================================\n",
            " conv2d (Conv2D)             (None, 247, 247, 32)      4736      \n",
            "                                                                 \n",
            " activation (Activation)     (None, 247, 247, 32)      0         \n",
            "                                                                 \n",
            " max_pooling2d (MaxPooling2D  (None, 123, 123, 32)     0         \n",
            " )                                                               \n",
            "                                                                 \n",
            " batch_normalization (BatchN  (None, 123, 123, 32)     128       \n",
            " ormalization)                                                   \n",
            "                                                                 \n",
            " conv2d_1 (Conv2D)           (None, 60, 60, 64)        51264     \n",
            "                                                                 \n",
            " activation_1 (Activation)   (None, 60, 60, 64)        0         \n",
            "                                                                 \n",
            " max_pooling2d_1 (MaxPooling  (None, 29, 29, 64)       0         \n",
            " 2D)                                                             \n",
            "                                                                 \n",
            " batch_normalization_1 (Batc  (None, 29, 29, 64)       256       \n",
            " hNormalization)                                                 \n",
            "                                                                 \n",
            " conv2d_2 (Conv2D)           (None, 27, 27, 96)        55392     \n",
            "                                                                 \n",
            " activation_2 (Activation)   (None, 27, 27, 96)        0         \n",
            "                                                                 \n",
            " max_pooling2d_2 (MaxPooling  (None, 13, 13, 96)       0         \n",
            " 2D)                                                             \n",
            "                                                                 \n",
            " batch_normalization_2 (Batc  (None, 13, 13, 96)       384       \n",
            " hNormalization)                                                 \n",
            "                                                                 \n",
            " conv2d_3 (Conv2D)           (None, 13, 13, 128)       12416     \n",
            "                                                                 \n",
            " activation_3 (Activation)   (None, 13, 13, 128)       0         \n",
            "                                                                 \n",
            " max_pooling2d_3 (MaxPooling  (None, 6, 6, 128)        0         \n",
            " 2D)                                                             \n",
            "                                                                 \n",
            " batch_normalization_3 (Batc  (None, 6, 6, 128)        512       \n",
            " hNormalization)                                                 \n",
            "                                                                 \n",
            " flatten (Flatten)           (None, 4608)              0         \n",
            "                                                                 \n",
            " dense (Dense)               (None, 256)               1179904   \n",
            "                                                                 \n",
            " activation_4 (Activation)   (None, 256)               0         \n",
            "                                                                 \n",
            " dropout (Dropout)           (None, 256)               0         \n",
            "                                                                 \n",
            " batch_normalization_4 (Batc  (None, 256)              1024      \n",
            " hNormalization)                                                 \n",
            "                                                                 \n",
            " dense_1 (Dense)             (None, 256)               65792     \n",
            "                                                                 \n",
            " activation_5 (Activation)   (None, 256)               0         \n",
            "                                                                 \n",
            " dropout_1 (Dropout)         (None, 256)               0         \n",
            "                                                                 \n",
            " batch_normalization_5 (Batc  (None, 256)              1024      \n",
            " hNormalization)                                                 \n",
            "                                                                 \n",
            " dense_2 (Dense)             (None, 31)                7967      \n",
            "                                                                 \n",
            " activation_6 (Activation)   (None, 31)                0         \n",
            "                                                                 \n",
            "=================================================================\n",
            "Total params: 1,380,799\n",
            "Trainable params: 1,379,135\n",
            "Non-trainable params: 1,664\n",
            "_________________________________________________________________\n"
          ]
        }
      ]
    },
    {
      "cell_type": "code",
      "source": [
        "model.compile(loss='categorical_crossentropy',\n",
        "              optimizer='sgd',\n",
        "              metrics=['accuracy'])"
      ],
      "metadata": {
        "id": "HYhRhVBN14Fh"
      },
      "execution_count": null,
      "outputs": []
    },
    {
      "cell_type": "code",
      "source": [
        "history = model.fit(\n",
        "    x=train_set,\n",
        "    validation_data=val_set,\n",
        "    epochs=150,\n",
        "    validation_steps=len(val_set),\n",
        "    steps_per_epoch=len(train_set),\n",
        "    verbose=1,\n",
        "    callbacks=[checkpoint, early_stop, learning_rate_reduction],\n",
        "    )"
      ],
      "metadata": {
        "colab": {
          "base_uri": "https://localhost:8080/"
        },
        "id": "R-xOll2Ssu0u",
        "outputId": "d8b3a982-b449-46e4-efaa-c38da6bee86b"
      },
      "execution_count": null,
      "outputs": [
        {
          "output_type": "stream",
          "name": "stdout",
          "text": [
            "Epoch 1/150\n",
            "35/35 [==============================] - 84s 2s/step - loss: 4.0979 - accuracy: 0.0394 - val_loss: 8.7130 - val_accuracy: 0.0323 - lr: 0.0100\n",
            "Epoch 2/150\n",
            "35/35 [==============================] - 62s 2s/step - loss: 3.7799 - accuracy: 0.0681 - val_loss: 6.5134 - val_accuracy: 0.0484 - lr: 0.0100\n",
            "Epoch 3/150\n",
            "35/35 [==============================] - 60s 2s/step - loss: 3.4326 - accuracy: 0.1039 - val_loss: 5.2381 - val_accuracy: 0.0403 - lr: 0.0100\n",
            "Epoch 4/150\n",
            "35/35 [==============================] - 61s 2s/step - loss: 3.1218 - accuracy: 0.1371 - val_loss: 4.2259 - val_accuracy: 0.0887 - lr: 0.0100\n",
            "Epoch 5/150\n",
            "35/35 [==============================] - 60s 2s/step - loss: 2.8941 - accuracy: 0.1774 - val_loss: 2.9848 - val_accuracy: 0.1532 - lr: 0.0100\n",
            "Epoch 6/150\n",
            "35/35 [==============================] - 65s 2s/step - loss: 2.7628 - accuracy: 0.1935 - val_loss: 2.7257 - val_accuracy: 0.2339 - lr: 0.0100\n",
            "Epoch 7/150\n",
            "35/35 [==============================] - 61s 2s/step - loss: 2.5064 - accuracy: 0.2545 - val_loss: 2.4755 - val_accuracy: 0.3065 - lr: 0.0100\n",
            "Epoch 8/150\n",
            "35/35 [==============================] - 60s 2s/step - loss: 2.4246 - accuracy: 0.2625 - val_loss: 2.3038 - val_accuracy: 0.2984 - lr: 0.0100\n",
            "Epoch 9/150\n",
            "35/35 [==============================] - 59s 2s/step - loss: 2.2099 - accuracy: 0.3244 - val_loss: 2.2956 - val_accuracy: 0.2823 - lr: 0.0100\n",
            "Epoch 10/150\n",
            "35/35 [==============================] - 60s 2s/step - loss: 2.0504 - accuracy: 0.3647 - val_loss: 1.8121 - val_accuracy: 0.4919 - lr: 0.0100\n",
            "Epoch 11/150\n",
            "35/35 [==============================] - 60s 2s/step - loss: 1.9523 - accuracy: 0.3880 - val_loss: 1.8037 - val_accuracy: 0.5081 - lr: 0.0100\n",
            "Epoch 12/150\n",
            "35/35 [==============================] - 59s 2s/step - loss: 1.8798 - accuracy: 0.4149 - val_loss: 1.6375 - val_accuracy: 0.5806 - lr: 0.0100\n",
            "Epoch 13/150\n",
            "35/35 [==============================] - 58s 2s/step - loss: 1.8082 - accuracy: 0.4409 - val_loss: 1.6895 - val_accuracy: 0.4758 - lr: 0.0100\n",
            "Epoch 14/150\n",
            "35/35 [==============================] - 58s 2s/step - loss: 1.6657 - accuracy: 0.4785 - val_loss: 1.6124 - val_accuracy: 0.5323 - lr: 0.0020\n",
            "Epoch 15/150\n",
            "35/35 [==============================] - 59s 2s/step - loss: 1.6268 - accuracy: 0.5045 - val_loss: 1.5136 - val_accuracy: 0.5968 - lr: 0.0020\n",
            "Epoch 16/150\n",
            "35/35 [==============================] - 59s 2s/step - loss: 1.5759 - accuracy: 0.5099 - val_loss: 1.4585 - val_accuracy: 0.6048 - lr: 0.0020\n",
            "Epoch 17/150\n",
            "35/35 [==============================] - 58s 2s/step - loss: 1.5497 - accuracy: 0.5287 - val_loss: 1.4566 - val_accuracy: 0.5726 - lr: 0.0020\n",
            "Epoch 18/150\n",
            "35/35 [==============================] - 59s 2s/step - loss: 1.5429 - accuracy: 0.5296 - val_loss: 1.3270 - val_accuracy: 0.6532 - lr: 0.0020\n",
            "Epoch 19/150\n",
            "35/35 [==============================] - 59s 2s/step - loss: 1.5066 - accuracy: 0.5421 - val_loss: 1.3436 - val_accuracy: 0.6532 - lr: 0.0020\n",
            "Epoch 20/150\n",
            "35/35 [==============================] - 58s 2s/step - loss: 1.5337 - accuracy: 0.5206 - val_loss: 1.3373 - val_accuracy: 0.6855 - lr: 4.0000e-04\n",
            "Epoch 21/150\n",
            "35/35 [==============================] - 58s 2s/step - loss: 1.5273 - accuracy: 0.5341 - val_loss: 1.3561 - val_accuracy: 0.6694 - lr: 8.0000e-05\n"
          ]
        }
      ]
    },
    {
      "cell_type": "code",
      "source": [
        "history = model.fit(\n",
        "    x=train_set,\n",
        "    validation_data=val_set,\n",
        "    epochs=150,\n",
        "    validation_steps=len(val_set),\n",
        "    steps_per_epoch=len(train_set),\n",
        "    verbose=1,\n",
        "    callbacks=[checkpoint, early_stop, learning_rate_reduction],\n",
        "    ) # 76"
      ],
      "metadata": {
        "colab": {
          "base_uri": "https://localhost:8080/"
        },
        "outputId": "daf54984-d6d4-46a6-e744-b891b9fb20f5",
        "id": "zyNr1tPMblbK"
      },
      "execution_count": null,
      "outputs": [
        {
          "output_type": "stream",
          "name": "stdout",
          "text": [
            "Epoch 1/150\n",
            "93/93 [==============================] - 202s 2s/step - loss: 3.4450 - accuracy: 0.1979 - val_loss: 5.8160 - val_accuracy: 0.0345 - lr: 0.0100\n",
            "Epoch 2/150\n",
            "93/93 [==============================] - 193s 2s/step - loss: 2.7772 - accuracy: 0.3075 - val_loss: 2.6393 - val_accuracy: 0.3292 - lr: 0.0100\n",
            "Epoch 3/150\n",
            "93/93 [==============================] - 187s 2s/step - loss: 2.5467 - accuracy: 0.3283 - val_loss: 2.1448 - val_accuracy: 0.3918 - lr: 0.0100\n",
            "Epoch 4/150\n",
            "93/93 [==============================] - 187s 2s/step - loss: 2.2741 - accuracy: 0.3632 - val_loss: 1.7951 - val_accuracy: 0.4451 - lr: 0.0100\n",
            "Epoch 5/150\n",
            "93/93 [==============================] - 192s 2s/step - loss: 2.1004 - accuracy: 0.3918 - val_loss: 1.6411 - val_accuracy: 0.5110 - lr: 0.0100\n",
            "Epoch 6/150\n",
            "93/93 [==============================] - 189s 2s/step - loss: 1.9381 - accuracy: 0.4173 - val_loss: 1.5332 - val_accuracy: 0.5298 - lr: 0.0100\n",
            "Epoch 7/150\n",
            "93/93 [==============================] - 188s 2s/step - loss: 1.8226 - accuracy: 0.4459 - val_loss: 1.4929 - val_accuracy: 0.5078 - lr: 0.0100\n",
            "Epoch 8/150\n",
            "93/93 [==============================] - 189s 2s/step - loss: 1.6564 - accuracy: 0.4869 - val_loss: 1.2761 - val_accuracy: 0.6113 - lr: 0.0100\n",
            "Epoch 9/150\n",
            "93/93 [==============================] - 192s 2s/step - loss: 1.5048 - accuracy: 0.5269 - val_loss: 1.1624 - val_accuracy: 0.6646 - lr: 0.0100\n",
            "Epoch 10/150\n",
            "93/93 [==============================] - 193s 2s/step - loss: 1.4292 - accuracy: 0.5440 - val_loss: 1.1121 - val_accuracy: 0.6583 - lr: 0.0100\n",
            "Epoch 11/150\n",
            "93/93 [==============================] - 188s 2s/step - loss: 1.3290 - accuracy: 0.5709 - val_loss: 0.9828 - val_accuracy: 0.7085 - lr: 0.0100\n",
            "Epoch 12/150\n",
            "93/93 [==============================] - 192s 2s/step - loss: 1.2180 - accuracy: 0.6042 - val_loss: 0.8748 - val_accuracy: 0.7461 - lr: 0.0100\n",
            "Epoch 13/150\n",
            "93/93 [==============================] - 191s 2s/step - loss: 1.1701 - accuracy: 0.6210 - val_loss: 0.8430 - val_accuracy: 0.7555 - lr: 0.0100\n",
            "Epoch 14/150\n",
            "93/93 [==============================] - 186s 2s/step - loss: 1.0863 - accuracy: 0.6462 - val_loss: 0.8539 - val_accuracy: 0.7335 - lr: 0.0100\n",
            "Epoch 15/150\n",
            "93/93 [==============================] - 187s 2s/step - loss: 1.0319 - accuracy: 0.6613 - val_loss: 0.6921 - val_accuracy: 0.8370 - lr: 0.0020\n",
            "Epoch 16/150\n",
            "93/93 [==============================] - 188s 2s/step - loss: 1.0122 - accuracy: 0.6727 - val_loss: 0.6856 - val_accuracy: 0.8245 - lr: 0.0020\n",
            "Epoch 17/150\n",
            "93/93 [==============================] - 207s 2s/step - loss: 1.0137 - accuracy: 0.6714 - val_loss: 0.6806 - val_accuracy: 0.8276 - lr: 0.0020\n",
            "Epoch 18/150\n",
            "93/93 [==============================] - 199s 2s/step - loss: 0.9825 - accuracy: 0.6788 - val_loss: 0.6620 - val_accuracy: 0.8119 - lr: 0.0020\n",
            "Epoch 19/150\n",
            "93/93 [==============================] - 193s 2s/step - loss: 0.9438 - accuracy: 0.6935 - val_loss: 0.6193 - val_accuracy: 0.8464 - lr: 0.0020\n",
            "Epoch 20/150\n",
            "93/93 [==============================] - 195s 2s/step - loss: 0.9670 - accuracy: 0.6888 - val_loss: 0.6170 - val_accuracy: 0.8370 - lr: 0.0020\n",
            "Epoch 21/150\n",
            "93/93 [==============================] - 194s 2s/step - loss: 0.9505 - accuracy: 0.6925 - val_loss: 0.6507 - val_accuracy: 0.8150 - lr: 0.0020\n",
            "Epoch 22/150\n",
            "93/93 [==============================] - 188s 2s/step - loss: 0.9235 - accuracy: 0.7023 - val_loss: 0.6417 - val_accuracy: 0.8276 - lr: 4.0000e-04\n",
            "Epoch 23/150\n",
            "93/93 [==============================] - 186s 2s/step - loss: 0.9544 - accuracy: 0.6956 - val_loss: 0.6172 - val_accuracy: 0.8527 - lr: 8.0000e-05\n"
          ]
        }
      ]
    },
    {
      "cell_type": "code",
      "source": [
        "history = model.fit(\n",
        "    x=train_set,\n",
        "    validation_data=val_set,\n",
        "    epochs=150,\n",
        "    validation_steps=len(val_set),\n",
        "    steps_per_epoch=len(train_set),\n",
        "    verbose=1,\n",
        "    callbacks=[checkpoint, early_stop, learning_rate_reduction],\n",
        "    ) # 64"
      ],
      "metadata": {
        "colab": {
          "base_uri": "https://localhost:8080/"
        },
        "id": "SInbRYQACAky",
        "outputId": "0fd2000c-3fa5-4bc4-f08c-640bbd200b96"
      },
      "execution_count": null,
      "outputs": [
        {
          "output_type": "stream",
          "name": "stdout",
          "text": [
            "Epoch 1/150\n",
            "35/35 [==============================] - 81s 2s/step - loss: 4.1007 - accuracy: 0.0439 - val_loss: 5.2021 - val_accuracy: 0.0242 - lr: 0.0100\n",
            "Epoch 2/150\n",
            "35/35 [==============================] - 78s 2s/step - loss: 3.8919 - accuracy: 0.0529 - val_loss: 4.6756 - val_accuracy: 0.0565 - lr: 0.0100\n",
            "Epoch 3/150\n",
            "35/35 [==============================] - 76s 2s/step - loss: 3.6343 - accuracy: 0.0762 - val_loss: 3.6476 - val_accuracy: 0.0806 - lr: 0.0100\n",
            "Epoch 4/150\n",
            "35/35 [==============================] - 76s 2s/step - loss: 3.3175 - accuracy: 0.1111 - val_loss: 3.2006 - val_accuracy: 0.1210 - lr: 0.0100\n",
            "Epoch 5/150\n",
            "35/35 [==============================] - 72s 2s/step - loss: 3.0726 - accuracy: 0.1398 - val_loss: 2.9500 - val_accuracy: 0.1532 - lr: 0.0100\n",
            "Epoch 6/150\n",
            "35/35 [==============================] - 75s 2s/step - loss: 2.9134 - accuracy: 0.1568 - val_loss: 2.7494 - val_accuracy: 0.2016 - lr: 0.0100\n",
            "Epoch 7/150\n",
            "35/35 [==============================] - 75s 2s/step - loss: 2.8092 - accuracy: 0.1998 - val_loss: 2.6278 - val_accuracy: 0.2500 - lr: 0.0100\n",
            "Epoch 8/150\n",
            "35/35 [==============================] - 74s 2s/step - loss: 2.6855 - accuracy: 0.1980 - val_loss: 2.4849 - val_accuracy: 0.3306 - lr: 0.0100\n",
            "Epoch 9/150\n",
            "35/35 [==============================] - 75s 2s/step - loss: 2.5064 - accuracy: 0.2599 - val_loss: 2.3145 - val_accuracy: 0.2903 - lr: 0.0100\n",
            "Epoch 10/150\n",
            "35/35 [==============================] - 74s 2s/step - loss: 2.4094 - accuracy: 0.2885 - val_loss: 2.2279 - val_accuracy: 0.2742 - lr: 0.0100\n",
            "Epoch 11/150\n",
            "35/35 [==============================] - 75s 2s/step - loss: 2.2398 - accuracy: 0.3289 - val_loss: 2.2199 - val_accuracy: 0.3226 - lr: 0.0100\n",
            "Epoch 12/150\n",
            "35/35 [==============================] - 74s 2s/step - loss: 2.1584 - accuracy: 0.3396 - val_loss: 2.0543 - val_accuracy: 0.3548 - lr: 0.0100\n",
            "Epoch 13/150\n",
            "35/35 [==============================] - 75s 2s/step - loss: 1.9698 - accuracy: 0.3889 - val_loss: 1.8033 - val_accuracy: 0.4355 - lr: 0.0100\n",
            "Epoch 14/150\n",
            "35/35 [==============================] - 74s 2s/step - loss: 1.8696 - accuracy: 0.4014 - val_loss: 1.7060 - val_accuracy: 0.5081 - lr: 0.0100\n",
            "Epoch 15/150\n",
            "35/35 [==============================] - 74s 2s/step - loss: 1.7541 - accuracy: 0.4489 - val_loss: 1.5429 - val_accuracy: 0.5242 - lr: 0.0100\n",
            "Epoch 16/150\n",
            "35/35 [==============================] - 73s 2s/step - loss: 1.6722 - accuracy: 0.4785 - val_loss: 1.4673 - val_accuracy: 0.4839 - lr: 0.0100\n",
            "Epoch 17/150\n",
            "35/35 [==============================] - 74s 2s/step - loss: 1.5772 - accuracy: 0.5170 - val_loss: 1.4657 - val_accuracy: 0.5242 - lr: 0.0100\n",
            "Epoch 18/150\n",
            "35/35 [==============================] - 74s 2s/step - loss: 1.4967 - accuracy: 0.5439 - val_loss: 1.4847 - val_accuracy: 0.5323 - lr: 0.0100\n",
            "Epoch 19/150\n",
            "35/35 [==============================] - 76s 2s/step - loss: 1.4547 - accuracy: 0.5654 - val_loss: 1.3940 - val_accuracy: 0.5645 - lr: 0.0020\n",
            "Epoch 20/150\n",
            "35/35 [==============================] - 74s 2s/step - loss: 1.4781 - accuracy: 0.5591 - val_loss: 1.3475 - val_accuracy: 0.6129 - lr: 0.0020\n",
            "Epoch 21/150\n",
            "35/35 [==============================] - 74s 2s/step - loss: 1.3822 - accuracy: 0.5681 - val_loss: 1.2956 - val_accuracy: 0.6371 - lr: 0.0020\n",
            "Epoch 22/150\n",
            "35/35 [==============================] - 75s 2s/step - loss: 1.4477 - accuracy: 0.5358 - val_loss: 1.2858 - val_accuracy: 0.6290 - lr: 0.0020\n",
            "Epoch 23/150\n",
            "35/35 [==============================] - 74s 2s/step - loss: 1.4157 - accuracy: 0.5439 - val_loss: 1.2453 - val_accuracy: 0.6371 - lr: 0.0020\n",
            "Epoch 24/150\n",
            "35/35 [==============================] - 73s 2s/step - loss: 1.3779 - accuracy: 0.5780 - val_loss: 1.3052 - val_accuracy: 0.5806 - lr: 0.0020\n",
            "Epoch 25/150\n",
            "35/35 [==============================] - 74s 2s/step - loss: 1.3555 - accuracy: 0.5726 - val_loss: 1.2276 - val_accuracy: 0.6532 - lr: 4.0000e-04\n",
            "Epoch 26/150\n",
            "35/35 [==============================] - 73s 2s/step - loss: 1.3931 - accuracy: 0.5609 - val_loss: 1.2421 - val_accuracy: 0.6532 - lr: 4.0000e-04\n",
            "Epoch 27/150\n",
            "35/35 [==============================] - 74s 2s/step - loss: 1.3417 - accuracy: 0.5806 - val_loss: 1.2584 - val_accuracy: 0.6774 - lr: 8.0000e-05\n",
            "Epoch 28/150\n",
            "35/35 [==============================] - 74s 2s/step - loss: 1.3645 - accuracy: 0.5726 - val_loss: 1.2453 - val_accuracy: 0.6452 - lr: 1.6000e-05\n"
          ]
        }
      ]
    },
    {
      "cell_type": "code",
      "source": [
        "import matplotlib.pyplot as plt\n",
        "\n",
        "# plot training history\n",
        "_, ax = plt.subplots(2, 1, figsize=(6, 6))\n",
        "ax[0].plot(history.history['loss'], label=\"training_loss\")\n",
        "ax[0].plot(history.history['val_loss'], label=\"validation_loss\")\n",
        "ax[0].legend(loc='best', shadow=True)\n",
        "\n",
        "ax[1].plot(history.history['accuracy'], label=\"training_accuracy\")\n",
        "ax[1].plot(history.history['val_accuracy'], label=\"validation_accuracy\")\n",
        "ax[1].legend(loc='best', shadow=True)\n",
        "\n",
        "plt.show()"
      ],
      "metadata": {
        "colab": {
          "base_uri": "https://localhost:8080/",
          "height": 513
        },
        "id": "A2PTnF_EHqAD",
        "outputId": "a5712a3e-2108-4290-adf7-7fff6b4edea6"
      },
      "execution_count": null,
      "outputs": [
        {
          "output_type": "display_data",
          "data": {
            "text/plain": [
              "<Figure size 600x600 with 2 Axes>"
            ],
            "image/png": "[encoded data removed]"
          },
          "metadata": {
            "needs_background": "light"
          }
        }
      ]
    },
    {
      "cell_type": "code",
      "source": [
        "import matplotlib.pyplot as plt\n",
        "\n",
        "# plot training history\n",
        "_, ax = plt.subplots(2, 1, figsize=(6, 6))\n",
        "ax[0].plot(history.history['loss'], label=\"training_loss\")\n",
        "ax[0].plot(history.history['val_loss'], label=\"validation_loss\")\n",
        "ax[0].legend(loc='best', shadow=True)\n",
        "\n",
        "ax[1].plot(history.history['accuracy'], label=\"training_accuracy\")\n",
        "ax[1].plot(history.history['val_accuracy'], label=\"validation_accuracy\")\n",
        "ax[1].legend(loc='best', shadow=True)\n",
        "\n",
        "plt.show()"
      ],
      "metadata": {
        "colab": {
          "base_uri": "https://localhost:8080/",
          "height": 376
        },
        "outputId": "3209b96a-5166-4d4d-e59b-6f8423c29a93",
        "id": "EfJJE-Hab9GU"
      },
      "execution_count": null,
      "outputs": [
        {
          "output_type": "display_data",
          "data": {
            "text/plain": [
              "<Figure size 432x432 with 2 Axes>"
            ],
            "image/png": "[encoded data removed]"
          },
          "metadata": {
            "needs_background": "light"
          }
        }
      ]
    },
    {
      "cell_type": "code",
      "source": [
        "import matplotlib.pyplot as plt\n",
        "\n",
        "# plot training history\n",
        "_, ax = plt.subplots(2, 1, figsize=(6, 6))\n",
        "ax[0].plot(history.history['loss'], label=\"training_loss\")\n",
        "ax[0].plot(history.history['val_loss'], label=\"validation_loss\")\n",
        "ax[0].legend(loc='best', shadow=True)\n",
        "\n",
        "ax[1].plot(history.history['accuracy'], label=\"training_accuracy\")\n",
        "ax[1].plot(history.history['val_accuracy'], label=\"validation_accuracy\")\n",
        "ax[1].legend(loc='best', shadow=True)\n",
        "\n",
        "plt.show()"
      ],
      "metadata": {
        "colab": {
          "base_uri": "https://localhost:8080/",
          "height": 513
        },
        "id": "_JkzIt27x4Xv",
        "outputId": "2d0a9203-4eb0-4806-a3b1-a9d09f63b736"
      },
      "execution_count": null,
      "outputs": [
        {
          "output_type": "display_data",
          "data": {
            "text/plain": [
              "<Figure size 600x600 with 2 Axes>"
            ],
            "image/png": "[encoded data removed]"
          },
          "metadata": {
            "needs_background": "light"
          }
        }
      ]
    },
    {
      "cell_type": "code",
      "source": [
        "loss, acc = model.evaluate(val_set)\n",
        "print(\"Restored model, accuracy: {:5.2f}%\".format(100 * acc))"
      ],
      "metadata": {
        "colab": {
          "base_uri": "https://localhost:8080/"
        },
        "id": "wZGfUnBAx78p",
        "outputId": "6762c1e7-3bfd-49f7-db8d-73a1921de715"
      },
      "execution_count": null,
      "outputs": [
        {
          "output_type": "stream",
          "name": "stdout",
          "text": [
            "4/4 [==============================] - 7s 1s/step - loss: 1.4072 - accuracy: 0.6290\n",
            "Restored model, accuracy: 62.90%\n"
          ]
        }
      ]
    },
    {
      "cell_type": "code",
      "source": [
        "loss, acc = model.evaluate(val_set)\n",
        "print(\"Restored model, accuracy: {:5.2f}%\".format(100 * acc))"
      ],
      "metadata": {
        "colab": {
          "base_uri": "https://localhost:8080/"
        },
        "id": "3irxIXyXHRCi",
        "outputId": "f2525828-3a7c-4505-a04c-2e5f1c8d3a09"
      },
      "execution_count": null,
      "outputs": [
        {
          "output_type": "stream",
          "name": "stdout",
          "text": [
            "4/4 [==============================] - 7s 2s/step - loss: 1.3126 - accuracy: 0.6371\n",
            "Restored model, accuracy: 63.71%\n"
          ]
        }
      ]
    },
    {
      "cell_type": "code",
      "source": [
        "test_set = data_generator.flow_from_directory(\n",
        "    os.path.join('/content', 'test_set'), \n",
        "    target_size=IMAGE_SHAPE, \n",
        "    batch_size=BATCH_SIZE, \n",
        "    class_mode='categorical',\n",
        ")"
      ],
      "metadata": {
        "colab": {
          "base_uri": "https://localhost:8080/"
        },
        "outputId": "8deda452-4a73-471e-f6f9-e7bb22cd661b",
        "id": "_HtVUqhZb_3-"
      },
      "execution_count": null,
      "outputs": [
        {
          "output_type": "stream",
          "name": "stdout",
          "text": [
            "Found 372 images belonging to 31 classes.\n"
          ]
        }
      ]
    },
    {
      "cell_type": "code",
      "source": [
        "loss, acc = model.evaluate(test_set)\n",
        "print(\"Restored model, accuracy: {:5.2f}%\".format(100 * acc))"
      ],
      "metadata": {
        "colab": {
          "base_uri": "https://localhost:8080/"
        },
        "id": "P_OlrJcayEfi",
        "outputId": "10a4af87-29ab-43dc-a7be-0c5dd629d610"
      },
      "execution_count": null,
      "outputs": [
        {
          "output_type": "stream",
          "name": "stdout",
          "text": [
            "12/12 [==============================] - 18s 1s/step - loss: 1.3178 - accuracy: 0.6317\n",
            "Restored model, accuracy: 63.17%\n"
          ]
        }
      ]
    },
    {
      "cell_type": "code",
      "source": [
        "loss, acc = model.evaluate(test_set)\n",
        "print(\"Restored model, accuracy: {:5.2f}%\".format(100 * acc))"
      ],
      "metadata": {
        "colab": {
          "base_uri": "https://localhost:8080/"
        },
        "id": "MG3b2GLMjdl7",
        "outputId": "46fd9f8a-a05d-48cb-8bdd-726118ddc90b"
      },
      "execution_count": null,
      "outputs": [
        {
          "output_type": "stream",
          "name": "stdout",
          "text": [
            "16/16 [==============================] - 29s 2s/step - loss: 1.2074 - accuracy: 0.6572\n",
            "Restored model, accuracy: 65.72%\n"
          ]
        }
      ]
    },
    {
      "cell_type": "code",
      "source": [
        "def apply_threshold(dic, threshold=0.05):\n",
        "    \n",
        "    for (key, value) in dic:\n",
        "        if value >= threshold:\n",
        "            print(f'author id: {key} ----------> score: {str(value*100)}%')"
      ],
      "metadata": {
        "id": "XNdJ5U_v1hRM"
      },
      "execution_count": null,
      "outputs": []
    },
    {
      "cell_type": "code",
      "execution_count": null,
      "metadata": {
        "id": "EvBoCbnKkWdQ"
      },
      "outputs": [],
      "source": [
        "import numpy as np\n",
        "from keras.preprocessing import image\n",
        "classes = val_set.class_indices\n",
        "def test_on_a_image(path):\n",
        "  test_image = image.load_img(path, target_size = (IMAGE_SIZE, IMAGE_SIZE))\n",
        "  test_image = image.img_to_array(test_image)\n",
        "  test_image = np.expand_dims(test_image, axis = 0)\n",
        "  result = model.predict(test_image)\n",
        "  dic = {}\n",
        "  for (key, value) in classes.items():\n",
        "      dic[key] = float(format(result[0][value],'.5f'))\n",
        "\n",
        "  return apply_threshold(sorted(dic.items(), key=lambda x: x[1], reverse=True)[:10])"
      ]
    },
    {
      "cell_type": "code",
      "source": [
        "model.get_layer(index=20).output"
      ],
      "metadata": {
        "colab": {
          "base_uri": "https://localhost:8080/"
        },
        "id": "8xf4Za2gTuER",
        "outputId": "6de56201-685c-49ba-f907-bddcd7b2a174"
      },
      "execution_count": null,
      "outputs": [
        {
          "output_type": "execute_result",
          "data": {
            "text/plain": [
              "<KerasTensor: shape=(None, 256) dtype=float32 (created by layer 'batch_normalization_10')>"
            ]
          },
          "metadata": {},
          "execution_count": 87
        }
      ]
    },
    {
      "cell_type": "code",
      "source": [
        "feature_extractor = keras.Model(\n",
        "    inputs=model.input,\n",
        "    outputs=model.get_layer(index=20).output\n",
        ")\n",
        "\n",
        "feature_extractor.compile(optimizer=keras.optimizers.Adam(0.02),\n",
        "            loss='categorical_crossentropy',\n",
        "            metrics=['accuracy'])\n",
        "\n",
        "feature_extractor.summary()"
      ],
      "metadata": {
        "colab": {
          "base_uri": "https://localhost:8080/"
        },
        "id": "0JNMnflbQVID",
        "outputId": "4776a382-fb40-4d2e-e4f8-45e020b3430f"
      },
      "execution_count": null,
      "outputs": [
        {
          "output_type": "stream",
          "name": "stdout",
          "text": [
            "Model: \"model\"\n",
            "_________________________________________________________________\n",
            " Layer (type)                Output Shape              Param #   \n",
            "=================================================================\n",
            " conv2d_4_input (InputLayer)  [(None, 500, 500, 3)]    0         \n",
            "                                                                 \n",
            " conv2d_4 (Conv2D)           (None, 247, 247, 32)      4736      \n",
            "                                                                 \n",
            " activation_7 (Activation)   (None, 247, 247, 32)      0         \n",
            "                                                                 \n",
            " max_pooling2d_4 (MaxPooling  (None, 123, 123, 32)     0         \n",
            " 2D)                                                             \n",
            "                                                                 \n",
            " batch_normalization_6 (Batc  (None, 123, 123, 32)     128       \n",
            " hNormalization)                                                 \n",
            "                                                                 \n",
            " conv2d_5 (Conv2D)           (None, 60, 60, 64)        51264     \n",
            "                                                                 \n",
            " activation_8 (Activation)   (None, 60, 60, 64)        0         \n",
            "                                                                 \n",
            " max_pooling2d_5 (MaxPooling  (None, 29, 29, 64)       0         \n",
            " 2D)                                                             \n",
            "                                                                 \n",
            " batch_normalization_7 (Batc  (None, 29, 29, 64)       256       \n",
            " hNormalization)                                                 \n",
            "                                                                 \n",
            " conv2d_6 (Conv2D)           (None, 27, 27, 96)        55392     \n",
            "                                                                 \n",
            " activation_9 (Activation)   (None, 27, 27, 96)        0         \n",
            "                                                                 \n",
            " max_pooling2d_6 (MaxPooling  (None, 13, 13, 96)       0         \n",
            " 2D)                                                             \n",
            "                                                                 \n",
            " batch_normalization_8 (Batc  (None, 13, 13, 96)       384       \n",
            " hNormalization)                                                 \n",
            "                                                                 \n",
            " conv2d_7 (Conv2D)           (None, 13, 13, 128)       12416     \n",
            "                                                                 \n",
            " activation_10 (Activation)  (None, 13, 13, 128)       0         \n",
            "                                                                 \n",
            " max_pooling2d_7 (MaxPooling  (None, 6, 6, 128)        0         \n",
            " 2D)                                                             \n",
            "                                                                 \n",
            " batch_normalization_9 (Batc  (None, 6, 6, 128)        512       \n",
            " hNormalization)                                                 \n",
            "                                                                 \n",
            " flatten_1 (Flatten)         (None, 4608)              0         \n",
            "                                                                 \n",
            " dense_3 (Dense)             (None, 256)               1179904   \n",
            "                                                                 \n",
            " activation_11 (Activation)  (None, 256)               0         \n",
            "                                                                 \n",
            " dropout_2 (Dropout)         (None, 256)               0         \n",
            "                                                                 \n",
            " batch_normalization_10 (Bat  (None, 256)              1024      \n",
            " chNormalization)                                                \n",
            "                                                                 \n",
            "=================================================================\n",
            "Total params: 1,306,016\n",
            "Trainable params: 0\n",
            "Non-trainable params: 1,306,016\n",
            "_________________________________________________________________\n"
          ]
        }
      ]
    },
    {
      "cell_type": "markdown",
      "source": [
        "## Load two different model\n"
      ],
      "metadata": {
        "id": "EJBV9g2zC4xY"
      }
    },
    {
      "cell_type": "code",
      "source": [
        "model.load_weights('/content/gdrive/MyDrive/biometric_project/model_with_53_accuracy_with_balanced/cp-0021.h5')"
      ],
      "metadata": {
        "id": "CBqQszGN-d4H"
      },
      "execution_count": null,
      "outputs": []
    },
    {
      "cell_type": "code",
      "source": [
        "loss, acc = model.evaluate(test_set)\n",
        "print(\"Restored model, accuracy: {:5.2f}%\".format(100 * acc))"
      ],
      "metadata": {
        "colab": {
          "base_uri": "https://localhost:8080/"
        },
        "id": "vt6zK98t-xrT",
        "outputId": "1b09440b-a810-4ba0-a326-73d0fe27c2e0"
      },
      "execution_count": null,
      "outputs": [
        {
          "output_type": "stream",
          "name": "stdout",
          "text": [
            "16/16 [==============================] - 34s 2s/step - loss: 1.6330 - accuracy: 0.5375\n",
            "Restored model, accuracy: 53.75%\n"
          ]
        }
      ]
    },
    {
      "cell_type": "code",
      "source": [
        "model.load_weights('/content/gdrive/MyDrive/biometric_project/model_with_76_accuracy_with_not_balanced/cp-0020.h5')"
      ],
      "metadata": {
        "id": "m6MllOY__PJx"
      },
      "execution_count": null,
      "outputs": []
    },
    {
      "cell_type": "code",
      "source": [
        "loss, acc = model.evaluate(test_set)\n",
        "print(\"Restored model, accuracy: {:5.2f}%\".format(100 * acc))"
      ],
      "metadata": {
        "colab": {
          "base_uri": "https://localhost:8080/"
        },
        "id": "JOWOUnL2_RMw",
        "outputId": "1d97b4a5-2f78-43e3-f207-6487433a0fa0"
      },
      "execution_count": null,
      "outputs": [
        {
          "output_type": "stream",
          "name": "stdout",
          "text": [
            "16/16 [==============================] - 33s 2s/step - loss: 0.8192 - accuracy: 0.7688\n",
            "Restored model, accuracy: 76.88%\n"
          ]
        }
      ]
    },
    {
      "cell_type": "code",
      "source": [
        "model.load_weights('/content/gdrive/MyDrive/biometric_project/model_with_64_accuracy_with_balanced/cp-0021.h5')"
      ],
      "metadata": {
        "id": "D9kK2D4ALyct"
      },
      "execution_count": null,
      "outputs": []
    },
    {
      "cell_type": "code",
      "source": [
        "loss, acc = model.evaluate(test_set)\n",
        "print(\"Restored model, accuracy: {:5.2f}%\".format(100 * acc))"
      ],
      "metadata": {
        "colab": {
          "base_uri": "https://localhost:8080/"
        },
        "id": "t0llBMpVL9nE",
        "outputId": "7c4e5de5-2165-4b62-a3e1-1eee5cd57f8d"
      },
      "execution_count": null,
      "outputs": [
        {
          "output_type": "stream",
          "name": "stdout",
          "text": [
            "16/16 [==============================] - 30s 2s/step - loss: 1.2484 - accuracy: 0.6430\n",
            "Restored model, accuracy: 64.30%\n"
          ]
        }
      ]
    }
  ],
  "metadata": {
    "colab": {
      "collapsed_sections": [],
      "name": "training-feature-extractor-models.ipynb",
      "provenance": []
    },
    "kernelspec": {
      "display_name": "Python 3",
      "name": "python3"
    }
  },
  "nbformat": 4,
  "nbformat_minor": 0
}
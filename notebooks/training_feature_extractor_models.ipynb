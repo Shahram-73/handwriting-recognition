{
  "cells": [
    {
      "cell_type": "markdown",
      "metadata": {
        "id": "x7o2q8Jy8BuB"
      },
      "source": [
        "# FEATURE EXTRACTION NOTEBOOK\n",
        "\n",
        "Feature extraction refers to the process of transforming raw data into features that can be processed while preserving the information in the original data set. It yields better results than applying machine learning directly to the raw data.\n",
        "\n",
        "So far, we have done a bit of preprocessing using some image processing techniques. We have taken the open-cv libraries into account to apply such preprocessing. \n",
        "The resulting images have been archived into the dataset folder and transferred to google drive."
      ]
    },
    {
      "cell_type": "markdown",
      "metadata": {
        "id": "3CleXUVKAnK9"
      },
      "source": [
        "## PREPARATION\n",
        "In the following, we are going to set some constants in order to use them later on. We also have mounting google drive in order to save the training logs into our g-drive."
      ]
    },
    {
      "cell_type": "markdown",
      "metadata": {
        "id": "dxagsqpcBOK2"
      },
      "source": [
        "### MOUNTING GOOGLE DRIVE\n",
        "The first thing to do is to give google colab permission to access our drive so as to save the training checkpoints."
      ]
    },
    {
      "cell_type": "code",
      "execution_count": 81,
      "metadata": {
        "colab": {
          "base_uri": "https://localhost:8080/"
        },
        "id": "vt3UIPjm6FIb",
        "outputId": "c47f402e-f886-4653-93ed-89cdca6a6db6",
        "vscode": {
          "languageId": "python"
        }
      },
      "outputs": [
        {
          "name": "stdout",
          "output_type": "stream",
          "text": [
            "Mounted at /content/gdrive\n"
          ]
        }
      ],
      "source": [
        "#MOUNTING GOOGLE DRIVE\n",
        "\n",
        "from google.colab import drive\n",
        "drive.mount('/content/gdrive',  force_remount=True) \n",
        "\n",
        "# force_remount is an argument to force google drive to mount once again."
      ]
    },
    {
      "cell_type": "markdown",
      "metadata": {
        "id": "5aQ37jq2B0Bx"
      },
      "source": [
        "### DOWNLOAD The DATASET\n",
        "\n",
        "Once we have finished our preprocessing, we have created a `dataset.zip` file from all the raw images. Now we download this file from our drive in order to start the training phase."
      ]
    },
    {
      "cell_type": "code",
      "execution_count": 6,
      "metadata": {
        "id": "Kvobuu08WcoU",
        "vscode": {
          "languageId": "python"
        }
      },
      "outputs": [],
      "source": [
        "%%capture\n",
        "# Download dataset from google drive\n",
        "\n",
        "!gdown --id 1KhERp3hcRVwhaXSJx7w8xXLrCESmAp1w\n",
        "\n",
        "# unzip the archive file\n",
        "!unzip dataset.zip\n",
        "\n",
        "# we don't need the archive file anymore\n",
        "!rm dataset.zip"
      ]
    },
    {
      "cell_type": "markdown",
      "metadata": {
        "id": "WLlTQfb1E8NY"
      },
      "source": [
        "## LOAD AND GENERATION\n",
        "\n",
        "Now we have everything to start the training phase,\n",
        "Let's define some constants for our deep architecture. Each of the constants has its own application which is summarized in the table below:\n",
        "\n",
        "CONSTANT_NAME | APPLICATION\n",
        "-------------------|------------------\n",
        "BATCH_SIZE       | # samples that will be passed through to the network at one time\n",
        "IMAGE_SIZE       | width of the image \n",
        "IMAGE_SHAPE      | shape of the image (image_height, image_width)\n",
        "N_CLASSES        | the output of the model, the classification layer of the model\n"
      ]
    },
    {
      "cell_type": "code",
      "execution_count": 10,
      "metadata": {
        "id": "Rl_aITkSp_s0",
        "vscode": {
          "languageId": "python"
        }
      },
      "outputs": [],
      "source": [
        "BATCH_SIZE = 32\n",
        "IMAGE_SIZE = 500\n",
        "IMAGE_SHAPE = (IMAGE_SIZE, IMAGE_SIZE) \n",
        "N_CLASSES = 31"
      ]
    },
    {
      "cell_type": "markdown",
      "metadata": {
        "id": "YH-5SgoRG8_r"
      },
      "source": [
        "### DATA GENERATOR\n",
        "We all encountered a situation where we try to load a dataset but there is not enough memory in our machine. \n",
        "\n",
        "As the field of machine learning progresses, this problem becomes more and more common. This is already one of the challenges in the field of vision where large datasets of images and video files are processed.\n",
        "\n",
        "Here, we will use `Keras` to build data generators for loading and processing our images\n",
        "\n",
        "The `ImageDataGenerator` class is very useful in image classification. There are several ways to use this generator, depending on the method we use, here we will focus on `flow_from_directory` which takes a path to the directory containing images sorted in sub directories and image augmentation parameters."
      ]
    },
    {
      "cell_type": "code",
      "execution_count": 11,
      "metadata": {
        "id": "wPE4gi_YHzom",
        "vscode": {
          "languageId": "python"
        }
      },
      "outputs": [],
      "source": [
        "from tensorflow import keras\n",
        "\n",
        "data_generator_with_aug = keras.preprocessing.image.ImageDataGenerator(\n",
        "    rotation_range=7, # rotation\n",
        "    width_shift_range=0.1,\n",
        "    height_shift_range=0.1,\n",
        "    brightness_range=(0.8, 1.2), # illumination\n",
        "    zoom_range=0.1, # zooming\n",
        "    # horizontal_flip=False,\n",
        "    # vertical_flip=False,\n",
        "    rescale=5,\n",
        "    validation_split=0.1,\n",
        ")\n",
        "\n",
        "data_generator_solo_rotation = keras.preprocessing.image.ImageDataGenerator(\n",
        "    rotation_range=7, # rotation\n",
        "    validation_split=0.1,\n",
        ")"
      ]
    },
    {
      "cell_type": "code",
      "execution_count": 15,
      "metadata": {
        "colab": {
          "base_uri": "https://localhost:8080/"
        },
        "id": "8yRSNALsSDvc",
        "outputId": "a0580015-bfcf-4d6f-c5ca-8f33a6e5fb45",
        "vscode": {
          "languageId": "python"
        }
      },
      "outputs": [
        {
          "name": "stdout",
          "output_type": "stream",
          "text": [
            "Found 1116 images belonging to 31 classes.\n",
            "Found 124 images belonging to 31 classes.\n"
          ]
        }
      ],
      "source": [
        "import os\n",
        "\n",
        "train_set = data_generator_with_aug.flow_from_directory(\n",
        "    os.path.join('/content', 'train_set'), \n",
        "    target_size=IMAGE_SHAPE, \n",
        "    batch_size=BATCH_SIZE, \n",
        "    class_mode='categorical',\n",
        "    subset=\"training\"\n",
        ")\n",
        "\n",
        "val_set = data_generator_with_aug.flow_from_directory(\n",
        "    os.path.join('/content', 'train_set'), \n",
        "    target_size=IMAGE_SHAPE, \n",
        "    batch_size=BATCH_SIZE, \n",
        "    class_mode='categorical',\n",
        "    subset=\"validation\"\n",
        ")"
      ]
    },
    {
      "cell_type": "code",
      "execution_count": 16,
      "metadata": {
        "colab": {
          "base_uri": "https://localhost:8080/"
        },
        "id": "GpY3qc2wIvbM",
        "outputId": "4d0f1aa0-2878-45ec-edcd-3b96e70eff56",
        "vscode": {
          "languageId": "python"
        }
      },
      "outputs": [
        {
          "name": "stdout",
          "output_type": "stream",
          "text": [
            "Found 1116 images belonging to 31 classes.\n",
            "Found 124 images belonging to 31 classes.\n"
          ]
        }
      ],
      "source": [
        "train_set_solo_rotation = data_generator_solo_rotation.flow_from_directory(\n",
        "    os.path.join('/content', 'train_set'), \n",
        "    target_size=IMAGE_SHAPE, \n",
        "    batch_size=BATCH_SIZE, \n",
        "    class_mode='categorical',\n",
        "    subset=\"training\"\n",
        ")\n",
        "\n",
        "val_set_solo_rotation = data_generator_solo_rotation.flow_from_directory(\n",
        "    os.path.join('/content', 'train_set'), \n",
        "    target_size=IMAGE_SHAPE, \n",
        "    batch_size=BATCH_SIZE, \n",
        "    class_mode='categorical',\n",
        "    subset=\"validation\"\n",
        ")"
      ]
    },
    {
      "cell_type": "markdown",
      "metadata": {
        "id": "-dzjXyjwKgYL"
      },
      "source": [
        "As you can see we have 1116 images which correspond to 31 different authors in our dataset where will be used as the training samples.\n",
        "\n",
        "What we want to achive here is to train a model to be able to extract our features from the images."
      ]
    },
    {
      "cell_type": "markdown",
      "metadata": {
        "id": "xJ6mAt5ZL-aw"
      },
      "source": [
        "### DATA DISTRIBUTION W.R.T CLASSES\n",
        "In the real world, it's not uncommon to come across unbalanced data sets where you might have class A with 90 observations and class B with 10 observations. One of the rules in machine learning is, that it's important to balance out the data set or at least get it close to balancing it. The main reason for this is to give equal priority to each class. The visualize the class distribution we can use the histogram distribution.\n",
        "\n",
        "Based on the following plot, we can see that our data is perfectly balanced.\n"
      ]
    },
    {
      "cell_type": "code",
      "execution_count": 17,
      "metadata": {
        "colab": {
          "base_uri": "https://localhost:8080/",
          "height": 460
        },
        "id": "muTp3BxnUAjH",
        "outputId": "694f5488-5a7c-4f35-bddd-e9e587f2c308",
        "vscode": {
          "languageId": "python"
        }
      },
      "outputs": [
        {
          "data": {
            "image/png": "[encoded data removed]",
            "text/plain": [
              "<Figure size 700x500 with 1 Axes>"
            ]
          },
          "metadata": {
            "needs_background": "light"
          },
          "output_type": "display_data"
        }
      ],
      "source": [
        "import matplotlib.pyplot as plt\n",
        "%matplotlib inline\n",
        "\n",
        "plt.rcParams.update({\n",
        "    'figure.figsize':(7,5), \n",
        "    'figure.dpi':100\n",
        "})\n",
        "\n",
        "# Plot Histogram \n",
        "plt.hist(train_set.classes, bins=31)\n",
        "plt.gca().set(title='Data distribution per each class', ylabel='Number of sample per class');"
      ]
    },
    {
      "cell_type": "markdown",
      "metadata": {
        "id": "wNMaTO7ENQbx"
      },
      "source": [
        "### VISUALIZE A SAMPLE OF THE TRAINING SET\n",
        "\n",
        "Let's check a sample from the data set. As we mentioned before, the dataset contains some samples which have been preprocessed using image processing techniques."
      ]
    },
    {
      "cell_type": "code",
      "execution_count": 24,
      "metadata": {
        "colab": {
          "base_uri": "https://localhost:8080/",
          "height": 517
        },
        "id": "jTIyv11wN6Dn",
        "outputId": "014fe114-1d8e-43de-a7d5-856f601babf0",
        "vscode": {
          "languageId": "python"
        }
      },
      "outputs": [
        {
          "data": {
            "image/png": "[encoded data removed]",
            "text/plain": [
              "<PIL.Image.Image image mode=RGB size=500x500 at 0x7FF84D24AED0>"
            ]
          },
          "execution_count": 24,
          "metadata": {},
          "output_type": "execute_result"
        }
      ],
      "source": [
        "keras.preprocessing.image.array_to_img(\n",
        "    train_set[0][0][25] \n",
        ")"
      ]
    },
    {
      "cell_type": "markdown",
      "metadata": {
        "id": "oZDWJhHdPIwp"
      },
      "source": [
        "## MODEL ARCHITECTURE AND TRAINING\n",
        "While deep learning is certainly not new, it is experiencing explosive growth because of the intersection of deeply layered neural networks and the use of GPUs to accelerate their execution.\n",
        "\n",
        "---\n",
        "We decide to create a deep architecure to be able to train a model with good accuracy. To do so we are going to take the most use out of some callback function in the keras api.\n",
        "- <b>`ModelCheckpoint`</b> 🏁: callback is used in conjunction with training using `model.fit()` to save a model or weights (in a checkpoint file) at some interval, so the model or weights can be loaded later to continue the training from the state saved.\n",
        "\n",
        "- <b>`EarlyStopping` </b>🚦: Assuming the goal of a training is to minimize the loss. With this, the metric to be monitored would be `loss`, and mode would be `min`. A `model.fit()` training loop will check at end of every epoch whether the `loss` is no longer decreasing, considering the `min_delta` and patience if applicable. Once it's found no longer decreasing,the training terminates.\n",
        "\n",
        "- <b> `ReduceLROnPlateau` </b> 𒑈: Models often benefit from reducing the learning rate by a factor of 2-10 once learning decreases. This callback monitors a quantity and if no improvement is seen for a `patience` number of epochs, the learning rate is reduced.\n"
      ]
    },
    {
      "cell_type": "code",
      "execution_count": 28,
      "metadata": {
        "id": "sdCnwWxNxlRa",
        "vscode": {
          "languageId": "python"
        }
      },
      "outputs": [],
      "source": [
        "from keras.callbacks import ReduceLROnPlateau, ModelCheckpoint, EarlyStopping"
      ]
    },
    {
      "cell_type": "code",
      "execution_count": 29,
      "metadata": {
        "id": "2vLNWcLzyScf",
        "vscode": {
          "languageId": "python"
        }
      },
      "outputs": [],
      "source": [
        "# reduces learning rate if no improvement are seen\n",
        "learning_rate_reduction = ReduceLROnPlateau(monitor='val_loss',\n",
        "                                            patience=1,\n",
        "                                            verbose=0,\n",
        "                                            factor=0.2,\n",
        "                                            min_lr=0.000001)\n",
        "\n",
        "# stop training if no improvements are seen\n",
        "early_stop = EarlyStopping(monitor=\"val_loss\",\n",
        "                            mode=\"min\",\n",
        "                            patience=3,\n",
        "                            restore_best_weights=True)\n",
        "\n",
        "# saves model weights to file\n",
        "checkpoint = ModelCheckpoint(os.path.join('/content/gdrive/MyDrive/biometric_project/model', 'cp-{epoch:04d}.h5'),\n",
        "                            monitor='val_loss',\n",
        "                            verbose=0,\n",
        "                            save_best_only=True,\n",
        "                            mode='min',\n",
        "                            save_weights_only=True)\n"
      ]
    },
    {
      "cell_type": "markdown",
      "metadata": {
        "id": "ECVcSaJZVVsE"
      },
      "source": [
        "### MODEL ARCHITECTURE\n",
        "\n",
        "*   contains 4 convolutional layers\n",
        "*   2 dense layers\n",
        "*   and an output (classification) layer\n",
        "\n",
        "Later on we will remove the classification layer in order to access the feature extraction layers.\n",
        "\n"
      ]
    },
    {
      "cell_type": "code",
      "execution_count": 30,
      "metadata": {
        "id": "OLLe3aKK0B2p",
        "vscode": {
          "languageId": "python"
        }
      },
      "outputs": [],
      "source": [
        "from keras import models, layers\n",
        "\n",
        "model = models.Sequential()\n",
        "\n",
        "################################.    1st CONVOLUTIONAL LAYER     ################################\n",
        "\n",
        "model.add(layers.Conv2D(filters=32, input_shape=(IMAGE_SIZE,IMAGE_SIZE,3), kernel_size=(7,7),strides=(2,2), padding='valid'))\n",
        "model.add(layers.Activation('relu'))\n",
        "model.add(layers.MaxPooling2D(pool_size=(3,3), strides=(2,2), padding='valid'))\n",
        "model.add(layers.BatchNormalization()) # Batch Normalisation before passing it to the next layer\n",
        "\n",
        "################################.    2nd CONVOLUTIONAL LAYER     ################################\n",
        "\n",
        "model.add(layers.Conv2D(filters=64, kernel_size=(5,5), strides=(2,2), padding='valid'))\n",
        "model.add(layers.Activation('relu'))\n",
        "model.add(layers.MaxPooling2D(pool_size=(3,3), strides=(2,2), padding='valid'))\n",
        "model.add(layers.BatchNormalization())\n",
        "\n",
        "################################.    3rd CONVOLUTIONAL LAYER     ################################\n",
        "\n",
        "model.add(layers.Conv2D(filters=96, kernel_size=(3,3), strides=(1,1), padding='valid'))\n",
        "model.add(layers.Activation('relu'))\n",
        "model.add(layers.MaxPooling2D(pool_size=(2,2), strides=(2,2), padding='valid'))\n",
        "model.add(layers.BatchNormalization())\n",
        "\n",
        "################################.    4th CONVOLUTIONAL LAYER     ################################\n",
        "\n",
        "model.add(layers.Conv2D(filters=128, kernel_size=(1,1), strides=(1,1), padding='valid'))\n",
        "model.add(layers.Activation('relu'))\n",
        "model.add(layers.MaxPooling2D(pool_size=(3,3), strides=(2,2), padding='valid'))\n",
        "model.add(layers.BatchNormalization())\n",
        "\n",
        "################################    FLATTEN, FOR DENSE LAYER     ################################\n",
        "\n",
        "model.add(layers.Flatten())\n",
        "\n",
        "################################.    DENSE LAYERS: 1st LAYER     ################################\n",
        "\n",
        "model.add(layers.Dense(256, input_shape=(IMAGE_SIZE * IMAGE_SIZE * 3,)))\n",
        "model.add(layers.Activation('relu'))\n",
        "model.add(layers.Dropout(0.4))\n",
        "model.add(layers.BatchNormalization())\n",
        "\n",
        "################################.    DENSE LAYERS: 2nd LAYER     ################################\n",
        "\n",
        "model.add(layers.Dense(256))\n",
        "model.add(layers.Activation('relu'))\n",
        "model.add(layers.Dropout(0.4))\n",
        "model.add(layers.BatchNormalization())\n",
        "\n",
        "\n",
        "################################.    OUTPUT LAYER: CLASSES    ################################\n",
        "\n",
        "model.add(layers.Dense(N_CLASSES))\n",
        "model.add(layers.Activation('softmax'))"
      ]
    },
    {
      "cell_type": "markdown",
      "metadata": {
        "id": "RMcR611IVwAv"
      },
      "source": [
        "### MODEL SUMMARY\n",
        "\n",
        "Let's check the description of the model architecture and compile the model."
      ]
    },
    {
      "cell_type": "code",
      "execution_count": 31,
      "metadata": {
        "colab": {
          "base_uri": "https://localhost:8080/"
        },
        "id": "a_KPikyWVxTe",
        "outputId": "23a783e0-23f7-4360-a21b-a1254adfd1e6",
        "vscode": {
          "languageId": "python"
        }
      },
      "outputs": [
        {
          "name": "stdout",
          "output_type": "stream",
          "text": [
            "Model: \"sequential\"\n",
            "_________________________________________________________________\n",
            " Layer (type)                Output Shape              Param #   \n",
            "=================================================================\n",
            " conv2d (Conv2D)             (None, 247, 247, 32)      4736      \n",
            "                                                                 \n",
            " activation (Activation)     (None, 247, 247, 32)      0         \n",
            "                                                                 \n",
            " max_pooling2d (MaxPooling2D  (None, 123, 123, 32)     0         \n",
            " )                                                               \n",
            "                                                                 \n",
            " batch_normalization (BatchN  (None, 123, 123, 32)     128       \n",
            " ormalization)                                                   \n",
            "                                                                 \n",
            " conv2d_1 (Conv2D)           (None, 60, 60, 64)        51264     \n",
            "                                                                 \n",
            " activation_1 (Activation)   (None, 60, 60, 64)        0         \n",
            "                                                                 \n",
            " max_pooling2d_1 (MaxPooling  (None, 29, 29, 64)       0         \n",
            " 2D)                                                             \n",
            "                                                                 \n",
            " batch_normalization_1 (Batc  (None, 29, 29, 64)       256       \n",
            " hNormalization)                                                 \n",
            "                                                                 \n",
            " conv2d_2 (Conv2D)           (None, 27, 27, 96)        55392     \n",
            "                                                                 \n",
            " activation_2 (Activation)   (None, 27, 27, 96)        0         \n",
            "                                                                 \n",
            " max_pooling2d_2 (MaxPooling  (None, 13, 13, 96)       0         \n",
            " 2D)                                                             \n",
            "                                                                 \n",
            " batch_normalization_2 (Batc  (None, 13, 13, 96)       384       \n",
            " hNormalization)                                                 \n",
            "                                                                 \n",
            " conv2d_3 (Conv2D)           (None, 13, 13, 128)       12416     \n",
            "                                                                 \n",
            " activation_3 (Activation)   (None, 13, 13, 128)       0         \n",
            "                                                                 \n",
            " max_pooling2d_3 (MaxPooling  (None, 6, 6, 128)        0         \n",
            " 2D)                                                             \n",
            "                                                                 \n",
            " batch_normalization_3 (Batc  (None, 6, 6, 128)        512       \n",
            " hNormalization)                                                 \n",
            "                                                                 \n",
            " flatten (Flatten)           (None, 4608)              0         \n",
            "                                                                 \n",
            " dense (Dense)               (None, 256)               1179904   \n",
            "                                                                 \n",
            " activation_4 (Activation)   (None, 256)               0         \n",
            "                                                                 \n",
            " dropout (Dropout)           (None, 256)               0         \n",
            "                                                                 \n",
            " batch_normalization_4 (Batc  (None, 256)              1024      \n",
            " hNormalization)                                                 \n",
            "                                                                 \n",
            " dense_1 (Dense)             (None, 256)               65792     \n",
            "                                                                 \n",
            " activation_5 (Activation)   (None, 256)               0         \n",
            "                                                                 \n",
            " dropout_1 (Dropout)         (None, 256)               0         \n",
            "                                                                 \n",
            " batch_normalization_5 (Batc  (None, 256)              1024      \n",
            " hNormalization)                                                 \n",
            "                                                                 \n",
            " dense_2 (Dense)             (None, 31)                7967      \n",
            "                                                                 \n",
            " activation_6 (Activation)   (None, 31)                0         \n",
            "                                                                 \n",
            "=================================================================\n",
            "Total params: 1,380,799\n",
            "Trainable params: 1,379,135\n",
            "Non-trainable params: 1,664\n",
            "_________________________________________________________________\n"
          ]
        }
      ],
      "source": [
        "model.summary()"
      ]
    },
    {
      "cell_type": "code",
      "execution_count": 32,
      "metadata": {
        "id": "HYhRhVBN14Fh",
        "vscode": {
          "languageId": "python"
        }
      },
      "outputs": [],
      "source": [
        "model.compile(loss='categorical_crossentropy',\n",
        "              optimizer='sgd',\n",
        "              metrics=['accuracy'])"
      ]
    },
    {
      "cell_type": "markdown",
      "metadata": {
        "id": "-czLynttWJp5"
      },
      "source": [
        "### TRAINING\n",
        "\n",
        "We are ready to start the training phase. But one to mention is that we have two different types of datasets. One is with more augmentation options and the other is considered only the rotation with 10 degrees.\n",
        "The result of the two models will be saved to the different directories in our google drive. \n",
        "\n",
        "Later on, during the evaluation, we will analyze them."
      ]
    },
    {
      "cell_type": "code",
      "execution_count": null,
      "metadata": {
        "colab": {
          "base_uri": "https://localhost:8080/"
        },
        "id": "R-xOll2Ssu0u",
        "outputId": "d8b3a982-b449-46e4-efaa-c38da6bee86b",
        "vscode": {
          "languageId": "python"
        }
      },
      "outputs": [
        {
          "name": "stdout",
          "output_type": "stream",
          "text": [
            "Epoch 1/150\n",
            "35/35 [==============================] - 84s 2s/step - loss: 4.0979 - accuracy: 0.0394 - val_loss: 8.7130 - val_accuracy: 0.0323 - lr: 0.0100\n",
            "Epoch 2/150\n",
            "35/35 [==============================] - 62s 2s/step - loss: 3.7799 - accuracy: 0.0681 - val_loss: 6.5134 - val_accuracy: 0.0484 - lr: 0.0100\n",
            "Epoch 3/150\n",
            "35/35 [==============================] - 60s 2s/step - loss: 3.4326 - accuracy: 0.1039 - val_loss: 5.2381 - val_accuracy: 0.0403 - lr: 0.0100\n",
            "Epoch 4/150\n",
            "35/35 [==============================] - 61s 2s/step - loss: 3.1218 - accuracy: 0.1371 - val_loss: 4.2259 - val_accuracy: 0.0887 - lr: 0.0100\n",
            "Epoch 5/150\n",
            "35/35 [==============================] - 60s 2s/step - loss: 2.8941 - accuracy: 0.1774 - val_loss: 2.9848 - val_accuracy: 0.1532 - lr: 0.0100\n",
            "Epoch 6/150\n",
            "35/35 [==============================] - 65s 2s/step - loss: 2.7628 - accuracy: 0.1935 - val_loss: 2.7257 - val_accuracy: 0.2339 - lr: 0.0100\n",
            "Epoch 7/150\n",
            "35/35 [==============================] - 61s 2s/step - loss: 2.5064 - accuracy: 0.2545 - val_loss: 2.4755 - val_accuracy: 0.3065 - lr: 0.0100\n",
            "Epoch 8/150\n",
            "35/35 [==============================] - 60s 2s/step - loss: 2.4246 - accuracy: 0.2625 - val_loss: 2.3038 - val_accuracy: 0.2984 - lr: 0.0100\n",
            "Epoch 9/150\n",
            "35/35 [==============================] - 59s 2s/step - loss: 2.2099 - accuracy: 0.3244 - val_loss: 2.2956 - val_accuracy: 0.2823 - lr: 0.0100\n",
            "Epoch 10/150\n",
            "35/35 [==============================] - 60s 2s/step - loss: 2.0504 - accuracy: 0.3647 - val_loss: 1.8121 - val_accuracy: 0.4919 - lr: 0.0100\n",
            "Epoch 11/150\n",
            "35/35 [==============================] - 60s 2s/step - loss: 1.9523 - accuracy: 0.3880 - val_loss: 1.8037 - val_accuracy: 0.5081 - lr: 0.0100\n",
            "Epoch 12/150\n",
            "35/35 [==============================] - 59s 2s/step - loss: 1.8798 - accuracy: 0.4149 - val_loss: 1.6375 - val_accuracy: 0.5806 - lr: 0.0100\n",
            "Epoch 13/150\n",
            "35/35 [==============================] - 58s 2s/step - loss: 1.8082 - accuracy: 0.4409 - val_loss: 1.6895 - val_accuracy: 0.4758 - lr: 0.0100\n",
            "Epoch 14/150\n",
            "35/35 [==============================] - 58s 2s/step - loss: 1.6657 - accuracy: 0.4785 - val_loss: 1.6124 - val_accuracy: 0.5323 - lr: 0.0020\n",
            "Epoch 15/150\n",
            "35/35 [==============================] - 59s 2s/step - loss: 1.6268 - accuracy: 0.5045 - val_loss: 1.5136 - val_accuracy: 0.5968 - lr: 0.0020\n",
            "Epoch 16/150\n",
            "35/35 [==============================] - 59s 2s/step - loss: 1.5759 - accuracy: 0.5099 - val_loss: 1.4585 - val_accuracy: 0.6048 - lr: 0.0020\n",
            "Epoch 17/150\n",
            "35/35 [==============================] - 58s 2s/step - loss: 1.5497 - accuracy: 0.5287 - val_loss: 1.4566 - val_accuracy: 0.5726 - lr: 0.0020\n",
            "Epoch 18/150\n",
            "35/35 [==============================] - 59s 2s/step - loss: 1.5429 - accuracy: 0.5296 - val_loss: 1.3270 - val_accuracy: 0.6532 - lr: 0.0020\n",
            "Epoch 19/150\n",
            "35/35 [==============================] - 59s 2s/step - loss: 1.5066 - accuracy: 0.5421 - val_loss: 1.3436 - val_accuracy: 0.6532 - lr: 0.0020\n",
            "Epoch 20/150\n",
            "35/35 [==============================] - 58s 2s/step - loss: 1.5337 - accuracy: 0.5206 - val_loss: 1.3373 - val_accuracy: 0.6855 - lr: 4.0000e-04\n",
            "Epoch 21/150\n",
            "35/35 [==============================] - 58s 2s/step - loss: 1.5273 - accuracy: 0.5341 - val_loss: 1.3561 - val_accuracy: 0.6694 - lr: 8.0000e-05\n"
          ]
        }
      ],
      "source": [
        "# Only Rotation\n",
        "history = model.fit(\n",
        "    x=train_set,\n",
        "    validation_data=val_set,\n",
        "    epochs=150,\n",
        "    validation_steps=len(val_set),\n",
        "    steps_per_epoch=len(train_set),\n",
        "    verbose=1,\n",
        "    callbacks=[checkpoint, early_stop, learning_rate_reduction],\n",
        "    )"
      ]
    },
    {
      "cell_type": "code",
      "execution_count": null,
      "metadata": {
        "colab": {
          "base_uri": "https://localhost:8080/"
        },
        "id": "zyNr1tPMblbK",
        "outputId": "daf54984-d6d4-46a6-e744-b891b9fb20f5",
        "vscode": {
          "languageId": "python"
        }
      },
      "outputs": [
        {
          "name": "stdout",
          "output_type": "stream",
          "text": [
            "Epoch 1/150\n",
            "93/93 [==============================] - 202s 2s/step - loss: 3.4450 - accuracy: 0.1979 - val_loss: 5.8160 - val_accuracy: 0.0345 - lr: 0.0100\n",
            "Epoch 2/150\n",
            "93/93 [==============================] - 193s 2s/step - loss: 2.7772 - accuracy: 0.3075 - val_loss: 2.6393 - val_accuracy: 0.3292 - lr: 0.0100\n",
            "Epoch 3/150\n",
            "93/93 [==============================] - 187s 2s/step - loss: 2.5467 - accuracy: 0.3283 - val_loss: 2.1448 - val_accuracy: 0.3918 - lr: 0.0100\n",
            "Epoch 4/150\n",
            "93/93 [==============================] - 187s 2s/step - loss: 2.2741 - accuracy: 0.3632 - val_loss: 1.7951 - val_accuracy: 0.4451 - lr: 0.0100\n",
            "Epoch 5/150\n",
            "93/93 [==============================] - 192s 2s/step - loss: 2.1004 - accuracy: 0.3918 - val_loss: 1.6411 - val_accuracy: 0.5110 - lr: 0.0100\n",
            "Epoch 6/150\n",
            "93/93 [==============================] - 189s 2s/step - loss: 1.9381 - accuracy: 0.4173 - val_loss: 1.5332 - val_accuracy: 0.5298 - lr: 0.0100\n",
            "Epoch 7/150\n",
            "93/93 [==============================] - 188s 2s/step - loss: 1.8226 - accuracy: 0.4459 - val_loss: 1.4929 - val_accuracy: 0.5078 - lr: 0.0100\n",
            "Epoch 8/150\n",
            "93/93 [==============================] - 189s 2s/step - loss: 1.6564 - accuracy: 0.4869 - val_loss: 1.2761 - val_accuracy: 0.6113 - lr: 0.0100\n",
            "Epoch 9/150\n",
            "93/93 [==============================] - 192s 2s/step - loss: 1.5048 - accuracy: 0.5269 - val_loss: 1.1624 - val_accuracy: 0.6646 - lr: 0.0100\n",
            "Epoch 10/150\n",
            "93/93 [==============================] - 193s 2s/step - loss: 1.4292 - accuracy: 0.5440 - val_loss: 1.1121 - val_accuracy: 0.6583 - lr: 0.0100\n",
            "Epoch 11/150\n",
            "93/93 [==============================] - 188s 2s/step - loss: 1.3290 - accuracy: 0.5709 - val_loss: 0.9828 - val_accuracy: 0.7085 - lr: 0.0100\n",
            "Epoch 12/150\n",
            "93/93 [==============================] - 192s 2s/step - loss: 1.2180 - accuracy: 0.6042 - val_loss: 0.8748 - val_accuracy: 0.7461 - lr: 0.0100\n",
            "Epoch 13/150\n",
            "93/93 [==============================] - 191s 2s/step - loss: 1.1701 - accuracy: 0.6210 - val_loss: 0.8430 - val_accuracy: 0.7555 - lr: 0.0100\n",
            "Epoch 14/150\n",
            "93/93 [==============================] - 186s 2s/step - loss: 1.0863 - accuracy: 0.6462 - val_loss: 0.8539 - val_accuracy: 0.7335 - lr: 0.0100\n",
            "Epoch 15/150\n",
            "93/93 [==============================] - 187s 2s/step - loss: 1.0319 - accuracy: 0.6613 - val_loss: 0.6921 - val_accuracy: 0.8370 - lr: 0.0020\n",
            "Epoch 16/150\n",
            "93/93 [==============================] - 188s 2s/step - loss: 1.0122 - accuracy: 0.6727 - val_loss: 0.6856 - val_accuracy: 0.8245 - lr: 0.0020\n",
            "Epoch 17/150\n",
            "93/93 [==============================] - 207s 2s/step - loss: 1.0137 - accuracy: 0.6714 - val_loss: 0.6806 - val_accuracy: 0.8276 - lr: 0.0020\n",
            "Epoch 18/150\n",
            "93/93 [==============================] - 199s 2s/step - loss: 0.9825 - accuracy: 0.6788 - val_loss: 0.6620 - val_accuracy: 0.8119 - lr: 0.0020\n",
            "Epoch 19/150\n",
            "93/93 [==============================] - 193s 2s/step - loss: 0.9438 - accuracy: 0.6935 - val_loss: 0.6193 - val_accuracy: 0.8464 - lr: 0.0020\n",
            "Epoch 20/150\n",
            "93/93 [==============================] - 195s 2s/step - loss: 0.9670 - accuracy: 0.6888 - val_loss: 0.6170 - val_accuracy: 0.8370 - lr: 0.0020\n",
            "Epoch 21/150\n",
            "93/93 [==============================] - 194s 2s/step - loss: 0.9505 - accuracy: 0.6925 - val_loss: 0.6507 - val_accuracy: 0.8150 - lr: 0.0020\n",
            "Epoch 22/150\n",
            "93/93 [==============================] - 188s 2s/step - loss: 0.9235 - accuracy: 0.7023 - val_loss: 0.6417 - val_accuracy: 0.8276 - lr: 4.0000e-04\n",
            "Epoch 23/150\n",
            "93/93 [==============================] - 186s 2s/step - loss: 0.9544 - accuracy: 0.6956 - val_loss: 0.6172 - val_accuracy: 0.8527 - lr: 8.0000e-05\n"
          ]
        }
      ],
      "source": [
        "# Rotation, shift, brightness, zoomng, rescale augmentation\n",
        "\n",
        "history = model.fit(\n",
        "    x=train_set_solo_rotation,\n",
        "    validation_data=val_set_solo_rotation,\n",
        "    epochs=150,\n",
        "    validation_steps=len(val_set),\n",
        "    steps_per_epoch=len(train_set),\n",
        "    verbose=1,\n",
        "    callbacks=[checkpoint, early_stop, learning_rate_reduction],\n",
        "    )"
      ]
    },
    {
      "cell_type": "markdown",
      "metadata": {
        "id": "ACW_EdaCXsiG"
      },
      "source": [
        "### LOSS/ACCURACY VISUALIZATION\n",
        "In the following, you can see the figures corresponding to the training loss and validation loss.\n",
        "\n",
        "The next figure represents the accuracy of the validation and training set. "
      ]
    },
    {
      "cell_type": "code",
      "execution_count": null,
      "metadata": {
        "colab": {
          "base_uri": "https://localhost:8080/",
          "height": 376
        },
        "id": "EfJJE-Hab9GU",
        "outputId": "3209b96a-5166-4d4d-e59b-6f8423c29a93",
        "vscode": {
          "languageId": "python"
        }
      },
      "outputs": [
        {
          "data": {
            "image/png": "[encoded data removed]",
            "text/plain": [
              "<Figure size 432x432 with 2 Axes>"
            ]
          },
          "metadata": {
            "needs_background": "light"
          },
          "output_type": "display_data"
        }
      ],
      "source": [
        "import matplotlib.pyplot as plt\n",
        "\n",
        "# plot training history\n",
        "_, ax = plt.subplots(2, 1, figsize=(6, 6))\n",
        "ax[0].plot(history.history['loss'], label=\"training_loss\")\n",
        "ax[0].plot(history.history['val_loss'], label=\"validation_loss\")\n",
        "ax[0].legend(loc='best', shadow=True)\n",
        "\n",
        "ax[1].plot(history.history['accuracy'], label=\"training_accuracy\")\n",
        "ax[1].plot(history.history['val_accuracy'], label=\"validation_accuracy\")\n",
        "ax[1].legend(loc='best', shadow=True)\n",
        "\n",
        "plt.show()"
      ]
    },
    {
      "cell_type": "code",
      "execution_count": null,
      "metadata": {
        "colab": {
          "base_uri": "https://localhost:8080/",
          "height": 513
        },
        "id": "_JkzIt27x4Xv",
        "outputId": "2d0a9203-4eb0-4806-a3b1-a9d09f63b736",
        "vscode": {
          "languageId": "python"
        }
      },
      "outputs": [
        {
          "data": {
            "image/png": "[encoded data removed]",
            "text/plain": [
              "<Figure size 600x600 with 2 Axes>"
            ]
          },
          "metadata": {
            "needs_background": "light"
          },
          "output_type": "display_data"
        }
      ],
      "source": [
        "import matplotlib.pyplot as plt\n",
        "\n",
        "_, ax = plt.subplots(2, 1, figsize=(6, 6))\n",
        "\n",
        "# plot training and validation loss\n",
        "ax[0].plot(history.history['loss'], label=\"training_loss\")\n",
        "ax[0].plot(history.history['val_loss'], label=\"validation_loss\")\n",
        "ax[0].legend(loc='best', shadow=True)\n",
        "\n",
        "# plot training and validation accuracy\n",
        "ax[1].plot(history.history['accuracy'], label=\"training_accuracy\")\n",
        "ax[1].plot(history.history['val_accuracy'], label=\"validation_accuracy\")\n",
        "ax[1].legend(loc='best', shadow=True)\n",
        "\n",
        "plt.show()"
      ]
    },
    {
      "cell_type": "markdown",
      "metadata": {
        "id": "P9tP3iSwYsOt"
      },
      "source": [
        "---"
      ]
    },
    {
      "cell_type": "markdown",
      "metadata": {
        "id": "H_JF1n4EYu7d"
      },
      "source": [
        "## TEST SET ACCURACY\n",
        "\n",
        "We are going to load our test set in order to test the model performance and see the result on some samples.\n",
        "The first thing needed is to load the test set."
      ]
    },
    {
      "cell_type": "code",
      "execution_count": 161,
      "metadata": {
        "colab": {
          "base_uri": "https://localhost:8080/"
        },
        "id": "AiS74LxOYrm4",
        "outputId": "e07a6d8c-0a79-418f-8415-7a90174de6bc",
        "vscode": {
          "languageId": "python"
        }
      },
      "outputs": [
        {
          "name": "stdout",
          "output_type": "stream",
          "text": [
            "Found 372 images belonging to 31 classes.\n"
          ]
        }
      ],
      "source": [
        "data_generator_test_set = keras.preprocessing.image.ImageDataGenerator()\n",
        "test_set = data_generator_test_set.flow_from_directory(\n",
        "    os.path.join('/content', 'test_set'), \n",
        "    target_size=IMAGE_SHAPE, \n",
        "    batch_size=BATCH_SIZE, \n",
        "    class_mode='categorical',\n",
        ")"
      ]
    },
    {
      "cell_type": "markdown",
      "metadata": {
        "id": "ZJuS6_RlgQgj"
      },
      "source": [
        "### SOME FUNCTIONS\n",
        "In the following two different function has been defined in order to test some samples from the test set\n",
        "\n"
      ]
    },
    {
      "cell_type": "code",
      "execution_count": 151,
      "metadata": {
        "id": "7yb9QSeagiDO",
        "vscode": {
          "languageId": "python"
        }
      },
      "outputs": [],
      "source": [
        "THRESHOLD = 0.04"
      ]
    },
    {
      "cell_type": "code",
      "execution_count": 152,
      "metadata": {
        "id": "XNdJ5U_v1hRM",
        "vscode": {
          "languageId": "python"
        }
      },
      "outputs": [],
      "source": [
        "def apply_threshold(dic, threshold=THRESHOLD):\n",
        "    \n",
        "    for (key, value) in dic:\n",
        "        if value >= threshold:\n",
        "            print(f'author id: {key} ----------> score: {str(value*100)}%')"
      ]
    },
    {
      "cell_type": "code",
      "execution_count": 157,
      "metadata": {
        "id": "EvBoCbnKkWdQ",
        "vscode": {
          "languageId": "python"
        }
      },
      "outputs": [],
      "source": [
        "import numpy as np\n",
        "from keras.preprocessing.image import img_to_array, load_img\n",
        "\n",
        "classes = val_set.class_indices\n",
        "\n",
        "def test_on_a_image(path):\n",
        "  test_image = img_to_array(load_img(path, target_size = (IMAGE_SIZE, IMAGE_SIZE)))\n",
        "  result = model.predict(np.expand_dims(test_image, axis = 0))\n",
        "  dic = {}\n",
        "  for (key, value) in classes.items():\n",
        "      dic[key] = float(format(result[0][value],'.5f'))\n",
        "\n",
        "  return apply_threshold(sorted(dic.items(), key=lambda x: x[1], reverse=True)[:10])"
      ]
    },
    {
      "cell_type": "markdown",
      "metadata": {
        "id": "k8ZQOUubgHiV"
      },
      "source": [
        "### TEST SET ACCURACY: Model With Rotation Only\n",
        "Let's evaluation the first model and see some examples tested on some samples taken from the test_set"
      ]
    },
    {
      "cell_type": "code",
      "execution_count": 118,
      "metadata": {
        "id": "CBqQszGN-d4H",
        "vscode": {
          "languageId": "python"
        }
      },
      "outputs": [],
      "source": [
        "model.load_weights('/content/gdrive/MyDrive/biometric_project/model_solo_rotation/cp-0016.h5')"
      ]
    },
    {
      "cell_type": "code",
      "execution_count": 119,
      "metadata": {
        "colab": {
          "base_uri": "https://localhost:8080/"
        },
        "id": "zUu56OBWZk3f",
        "outputId": "80c1246c-0d8a-4ca4-d13d-ff299debf6ff",
        "vscode": {
          "languageId": "python"
        }
      },
      "outputs": [
        {
          "name": "stdout",
          "output_type": "stream",
          "text": [
            "12/12 [==============================] - 13s 1s/step - loss: 1.8915 - accuracy: 0.4489\n",
            "Restored model, accuracy: 44.89%\n"
          ]
        }
      ],
      "source": [
        "loss, acc = model.evaluate(test_set)\n",
        "print(\"Restored model, accuracy: {:5.2f}%\".format(100 * acc))"
      ]
    },
    {
      "cell_type": "code",
      "execution_count": 158,
      "metadata": {
        "colab": {
          "base_uri": "https://localhost:8080/"
        },
        "id": "NjDt0qcteT6x",
        "outputId": "f38ebb57-6457-4fe3-de91-354d98961b63",
        "vscode": {
          "languageId": "python"
        }
      },
      "outputs": [
        {
          "name": "stdout",
          "output_type": "stream",
          "text": [
            "author id: 0 ----------> score: 79.88199999999999%\n",
            "author id: 346 ----------> score: 9.014999999999999%\n",
            "author id: 348 ----------> score: 4.9%\n"
          ]
        }
      ],
      "source": [
        "test_on_a_image('/content/test_set/0/a01-007u-0.png')"
      ]
    },
    {
      "cell_type": "code",
      "execution_count": 148,
      "metadata": {
        "colab": {
          "base_uri": "https://localhost:8080/"
        },
        "id": "RnYI_PewfVOA",
        "outputId": "7a55211f-78bc-4c75-a5c5-5f2cca339a55",
        "vscode": {
          "languageId": "python"
        }
      },
      "outputs": [
        {
          "name": "stdout",
          "output_type": "stream",
          "text": [
            "author id: 153 ----------> score: 63.247%\n",
            "author id: 344 ----------> score: 12.092%\n",
            "author id: 634 ----------> score: 12.011%\n",
            "author id: 346 ----------> score: 4.833%\n"
          ]
        }
      ],
      "source": [
        "test_on_a_image('/content/test_set/344/g06-011m-0.png')"
      ]
    },
    {
      "cell_type": "code",
      "execution_count": 149,
      "metadata": {
        "colab": {
          "base_uri": "https://localhost:8080/"
        },
        "id": "i9AAv1Jbewv2",
        "outputId": "1a056995-079b-4a5d-e251-14fff72b01c3",
        "vscode": {
          "languageId": "python"
        }
      },
      "outputs": [
        {
          "name": "stdout",
          "output_type": "stream",
          "text": [
            "author id: 155 ----------> score: 60.33%\n",
            "author id: 150 ----------> score: 7.619%\n",
            "author id: 384 ----------> score: 6.5009999999999994%\n",
            "author id: 342 ----------> score: 4.027%\n"
          ]
        }
      ],
      "source": [
        "test_on_a_image('/content/test_set/155/c03-000f-1.png')"
      ]
    },
    {
      "cell_type": "code",
      "execution_count": 150,
      "metadata": {
        "colab": {
          "base_uri": "https://localhost:8080/"
        },
        "id": "QLBd_ktvfaF9",
        "outputId": "33b0a3a2-570d-444f-df74-a8c9f1a40b70",
        "vscode": {
          "languageId": "python"
        }
      },
      "outputs": [
        {
          "name": "stdout",
          "output_type": "stream",
          "text": [
            "author id: 336 ----------> score: 37.208000000000006%\n",
            "author id: 333 ----------> score: 10.807%\n",
            "author id: 634 ----------> score: 9.17%\n",
            "author id: 346 ----------> score: 8.997%\n",
            "author id: 347 ----------> score: 6.76%\n",
            "author id: 342 ----------> score: 5.318%\n",
            "author id: 153 ----------> score: 5.108%\n",
            "author id: 635 ----------> score: 4.531000000000001%\n"
          ]
        }
      ],
      "source": [
        "test_on_a_image('/content/test_set/336/g06-011e-2.png')"
      ]
    },
    {
      "cell_type": "markdown",
      "metadata": {
        "id": "y5THrZlEhfHo"
      },
      "source": [
        "### TEST SET ACCURACY: Model With more augmentation\n",
        "Let's evaluation the second model and see some examples tested on some samples taken from the test_set"
      ]
    },
    {
      "cell_type": "code",
      "execution_count": 187,
      "metadata": {
        "id": "BGgYa_WEbap2",
        "vscode": {
          "languageId": "python"
        }
      },
      "outputs": [],
      "source": [
        "model.load_weights('/content/gdrive/MyDrive/biometric_project/model_full_aug/cp-0018.h5')"
      ]
    },
    {
      "cell_type": "code",
      "execution_count": null,
      "metadata": {
        "colab": {
          "base_uri": "https://localhost:8080/"
        },
        "id": "P_OlrJcayEfi",
        "outputId": "10a4af87-29ab-43dc-a7be-0c5dd629d610",
        "vscode": {
          "languageId": "python"
        }
      },
      "outputs": [
        {
          "name": "stdout",
          "output_type": "stream",
          "text": [
            "12/12 [==============================] - 18s 1s/step - loss: 1.3178 - accuracy: 0.6317\n",
            "Restored model, accuracy: 63.17%\n"
          ]
        }
      ],
      "source": [
        "loss, acc = model.evaluate(test_set)\n",
        "print(\"Restored model, accuracy: {:5.2f}%\".format(100 * acc))"
      ]
    },
    {
      "cell_type": "code",
      "execution_count": 189,
      "metadata": {
        "colab": {
          "base_uri": "https://localhost:8080/"
        },
        "id": "kCHcpWnBh1-e",
        "outputId": "65b228f3-8d00-40f0-ae2a-db77a2eaecd7",
        "vscode": {
          "languageId": "python"
        }
      },
      "outputs": [
        {
          "name": "stdout",
          "output_type": "stream",
          "text": [
            "author id: 0 ----------> score: 99.947%\n"
          ]
        }
      ],
      "source": [
        "test_on_a_image('/content/test_set/0/a01-007u-0.png')"
      ]
    },
    {
      "cell_type": "code",
      "execution_count": 190,
      "metadata": {
        "colab": {
          "base_uri": "https://localhost:8080/"
        },
        "id": "beSJc3bJh1-p",
        "outputId": "fafd8c54-abac-4ee4-e2f6-bb578e71e6e4",
        "vscode": {
          "languageId": "python"
        }
      },
      "outputs": [
        {
          "name": "stdout",
          "output_type": "stream",
          "text": [
            "author id: 346 ----------> score: 78.269%\n",
            "author id: 153 ----------> score: 11.905000000000001%\n",
            "author id: 634 ----------> score: 7.295999999999999%\n"
          ]
        }
      ],
      "source": [
        "test_on_a_image('/content/test_set/344/g06-011m-0.png')"
      ]
    },
    {
      "cell_type": "code",
      "execution_count": 191,
      "metadata": {
        "colab": {
          "base_uri": "https://localhost:8080/"
        },
        "id": "i-y5mofnh1-p",
        "outputId": "1e513713-f47d-4c3c-9c81-8bfe9e73cb66",
        "vscode": {
          "languageId": "python"
        }
      },
      "outputs": [
        {
          "name": "stdout",
          "output_type": "stream",
          "text": [
            "author id: 155 ----------> score: 86.467%\n",
            "author id: 0 ----------> score: 6.039%\n"
          ]
        }
      ],
      "source": [
        "test_on_a_image('/content/test_set/155/c03-000f-1.png')"
      ]
    },
    {
      "cell_type": "code",
      "execution_count": 192,
      "metadata": {
        "colab": {
          "base_uri": "https://localhost:8080/"
        },
        "id": "xXamsMJ8h1-p",
        "outputId": "8fa361aa-6987-49f6-ec6f-2cb378f17438",
        "vscode": {
          "languageId": "python"
        }
      },
      "outputs": [
        {
          "name": "stdout",
          "output_type": "stream",
          "text": [
            "author id: 0 ----------> score: 47.239%\n",
            "author id: 346 ----------> score: 21.458%\n",
            "author id: 336 ----------> score: 20.237%\n"
          ]
        }
      ],
      "source": [
        "test_on_a_image('/content/test_set/336/g06-011e-2.png')"
      ]
    },
    {
      "cell_type": "markdown",
      "metadata": {
        "id": "0DBdch3ZjPr3"
      },
      "source": [
        "### OBSERVATION\n",
        "\n",
        "- While the first model shows more author scores and is less sure about them, the second model is more strict to the final list. That makes the second model make more mistakes about the prediction.\n",
        "\n",
        "- While with the first model we use fewer augmentation options the result is more acceptable than the second one. Of course, these are just personal observations. To better analyze the system, we must perform a full biometric evaluation task."
      ]
    },
    {
      "cell_type": "markdown",
      "metadata": {
        "id": "ex-IIWFxlT2k"
      },
      "source": [
        "## FEATURE EXTRACTOR MODEL\n",
        "\n",
        "As you can see we have two different classification models that are able to classify an image among 31 different authors. But In biometrics, we need feature extractor modules in order to create and extract the relevant features during the enrollment and save them in our gallery.\n",
        "Therefore, what we are going to do is to remove the last layer of our model which is the classification layer in order to access the feature layer."
      ]
    },
    {
      "cell_type": "code",
      "execution_count": 208,
      "metadata": {
        "id": "8xf4Za2gTuER",
        "vscode": {
          "languageId": "python"
        }
      },
      "outputs": [],
      "source": [
        "last_feature_layer = model.get_layer(index=24).output"
      ]
    },
    {
      "cell_type": "code",
      "execution_count": 209,
      "metadata": {
        "id": "0JNMnflbQVID",
        "vscode": {
          "languageId": "python"
        }
      },
      "outputs": [],
      "source": [
        "feature_extractor = keras.Model(\n",
        "    inputs = model.input,\n",
        "    outputs = last_feature_layer\n",
        ")\n",
        "\n",
        "feature_extractor.compile(optimizer=keras.optimizers.Adam(0.02),\n",
        "            loss='categorical_crossentropy',\n",
        "            metrics=['accuracy'])"
      ]
    }
  ],
  "metadata": {
    "colab": {
      "collapsed_sections": [
        "3CleXUVKAnK9"
      ],
      "name": "training-feature-extractor-models.ipynb",
      "provenance": []
    },
    "kernelspec": {
      "display_name": "Python 3",
      "name": "python3"
    }
  },
  "nbformat": 4,
  "nbformat_minor": 0
}
